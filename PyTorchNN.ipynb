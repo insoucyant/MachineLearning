{
  "nbformat": 4,
  "nbformat_minor": 0,
  "metadata": {
    "colab": {
      "provenance": [],
      "authorship_tag": "ABX9TyNN2yPMtmbBDqu161XHTy/N",
      "include_colab_link": true
    },
    "kernelspec": {
      "name": "python3",
      "display_name": "Python 3"
    },
    "language_info": {
      "name": "python"
    }
  },
  "cells": [
    {
      "cell_type": "markdown",
      "metadata": {
        "id": "view-in-github",
        "colab_type": "text"
      },
      "source": [
        "<a href=\"https://colab.research.google.com/github/insoucyant/MachineLearning/blob/main/PyTorchNN.ipynb\" target=\"_parent\"><img src=\"https://colab.research.google.com/assets/colab-badge.svg\" alt=\"Open In Colab\"/></a>"
      ]
    },
    {
      "cell_type": "code",
      "execution_count": 3,
      "metadata": {
        "id": "LVekw6GNp2Kh"
      },
      "outputs": [],
      "source": [
        "#https://www.youtube.com/watch?v=Jy4wM2X21u0\n",
        "#Import\n",
        "import torch\n",
        "import numpy as np\n",
        "import torch.nn as nn\n",
        "import torch.optim as optim # Gradient Descent, Adam\n",
        "import torch.nn.functional as F # Relu, Sigmoid\n",
        "from torch.utils.data import DataLoader\n",
        "import torchvision.datasets as datasets # MNSIST Dataset 28*28 =784\n",
        "import torchvision.transforms as transforms"
      ]
    },
    {
      "cell_type": "markdown",
      "source": [
        "# Sections\n",
        "* Imports\n",
        "* Create Fully Connected Netowrk\n",
        "* Hyperparameters\n",
        "* Load Data\n",
        "* Initialize Network\n",
        "* Loss and optimizer\n",
        "* Train Network\n",
        "* Check accuracy on training & test to see how good our model is"
      ],
      "metadata": {
        "id": "JqbWUsRTqDsv"
      }
    },
    {
      "cell_type": "code",
      "source": [
        "class NN(nn.Module):\n",
        "  def __init__(self, input_size, num_classes):  # Input size = 28*28=784,\n",
        "    super(NN, self).__init__()\n",
        "    self.fc1 == nn.Linear(input_sixe, 50) # Input size nodes to hidden layer of 50 modes\n",
        "    self.fc2 == nn.linear(50, num_classes) # Hidden layer 50 nodes to putput classes"
      ],
      "metadata": {
        "id": "-Ji2sHjmqCuQ"
      },
      "execution_count": null,
      "outputs": []
    }
  ]
}