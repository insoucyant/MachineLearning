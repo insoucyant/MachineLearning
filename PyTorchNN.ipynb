{
  "nbformat": 4,
  "nbformat_minor": 0,
  "metadata": {
    "colab": {
      "provenance": [],
      "gpuType": "T4",
      "authorship_tag": "ABX9TyNo8hz0H3fFDu/ZiY08dY1b",
      "include_colab_link": true
    },
    "kernelspec": {
      "name": "python3",
      "display_name": "Python 3"
    },
    "language_info": {
      "name": "python"
    }
  },
  "cells": [
    {
      "cell_type": "markdown",
      "metadata": {
        "id": "view-in-github",
        "colab_type": "text"
      },
      "source": [
        "<a href=\"https://colab.research.google.com/github/insoucyant/MachineLearning/blob/main/PyTorchNN.ipynb\" target=\"_parent\"><img src=\"https://colab.research.google.com/assets/colab-badge.svg\" alt=\"Open In Colab\"/></a>"
      ]
    },
    {
      "cell_type": "code",
      "execution_count": null,
      "metadata": {
        "id": "LVekw6GNp2Kh"
      },
      "outputs": [],
      "source": [
        "#https://www.youtube.com/watch?v=Jy4wM2X21u0\n",
        "#Import\n",
        "import torch\n",
        "import numpy as np\n",
        "import torch.nn as nn\n",
        "import torch.optim as optim # Gradient Descent, Adam\n",
        "import torch.nn.functional as F # Relu, Sigmoid\n",
        "from torch.utils.data import DataLoader\n",
        "import torchvision.datasets as datasets # MNSIST Dataset 28*28 =784\n",
        "import torchvision.transforms as transforms"
      ]
    },
    {
      "cell_type": "markdown",
      "source": [
        "# Sections\n",
        "* Imports\n",
        "* Create Fully Connected Netowrk\n",
        "* Hyperparameters\n",
        "* Load Data\n",
        "* Initialize Network\n",
        "* Loss and optimizer\n",
        "* Train Network\n",
        "* Check accuracy on training & test to see how good our model is"
      ],
      "metadata": {
        "id": "JqbWUsRTqDsv"
      }
    },
    {
      "cell_type": "markdown",
      "source": [
        "### Create fully Connected NetworK"
      ],
      "metadata": {
        "id": "dvFyp_Ow8Y-9"
      }
    },
    {
      "cell_type": "code",
      "source": [
        "class NN(nn.Module):\n",
        "  def __init__(self, input_size, num_classes):  # Input size = 28*28=784,\n",
        "    super(NN, self).__init__()\n",
        "    self.fc1 = nn.Linear(input_size, 50) # Input size nodes to hidden layer of 50 modes. fc= Fully Connected\n",
        "    self.fc2 = nn.Linear(50, num_classes) # Hidden layer 50 nodes to putput classes\n",
        "\n",
        "  def forward(self,x):\n",
        "    x = F.relu(self.fc1(x))\n",
        "    x = self.fc2(x)\n",
        "    return x"
      ],
      "metadata": {
        "id": "-Ji2sHjmqCuQ"
      },
      "execution_count": null,
      "outputs": []
    },
    {
      "cell_type": "code",
      "source": [
        "model = NN(784,10)\n",
        "x = torch.randn(64,784) # Minibatch size\n",
        "print(model(x).shape)\n"
      ],
      "metadata": {
        "colab": {
          "base_uri": "https://localhost:8080/"
        },
        "id": "lMPXmmO9ApAh",
        "outputId": "f4c01f55-c4bf-4d12-c404-2ac790faf0c3"
      },
      "execution_count": null,
      "outputs": [
        {
          "output_type": "stream",
          "name": "stdout",
          "text": [
            "torch.Size([64, 10])\n"
          ]
        }
      ]
    },
    {
      "cell_type": "markdown",
      "source": [
        "#### Set Device"
      ],
      "metadata": {
        "id": "md-VBE3SBqFV"
      }
    },
    {
      "cell_type": "code",
      "source": [
        "device = torch.device('cuda' if torch.cuda.is_available() else 'cpu')"
      ],
      "metadata": {
        "id": "vs3W_VtIA3oS"
      },
      "execution_count": null,
      "outputs": []
    },
    {
      "cell_type": "markdown",
      "source": [
        "#### Hyperparameters"
      ],
      "metadata": {
        "id": "mptiUjO2BoEa"
      }
    },
    {
      "cell_type": "code",
      "source": [
        "input_size = 784\n",
        "num_classes = 10\n",
        "learning_rate = 0.001\n",
        "batch_size = 64\n",
        "num_epochs = 1"
      ],
      "metadata": {
        "id": "aHzbQEW0CIl4"
      },
      "execution_count": null,
      "outputs": []
    },
    {
      "cell_type": "markdown",
      "source": [
        "#### Load Data"
      ],
      "metadata": {
        "id": "vSpJYwspCVO4"
      }
    },
    {
      "cell_type": "code",
      "source": [
        "train_dataset = datasets.MNIST(root = 'dataset/', train = True, transform = transforms.ToTensor(), download=True)\n",
        "train_loader = DataLoader(dataset=train_dataset, batch_size=batch_size, shuffle=True)\n",
        "test_dataset = datasets.MNIST(root = 'dataset/', train=False, transform=transforms.ToTensor(), download=True)\n",
        "test_loader = DataLoader(dataset=test_dataset, batch_size=batch_size, shuffle=True)"
      ],
      "metadata": {
        "id": "z6JcZRKICUJo"
      },
      "execution_count": null,
      "outputs": []
    },
    {
      "cell_type": "markdown",
      "source": [
        "#### Initialize Network"
      ],
      "metadata": {
        "id": "KxQ8ZDrtctQ6"
      }
    },
    {
      "cell_type": "code",
      "source": [
        "model = NN(input_size=input_size, num_classes=num_classes).to(device)"
      ],
      "metadata": {
        "id": "_X0YnX1ocsEX"
      },
      "execution_count": null,
      "outputs": []
    },
    {
      "cell_type": "markdown",
      "source": [
        "#### Loss and optimizer"
      ],
      "metadata": {
        "id": "FsPxCl17dKvB"
      }
    },
    {
      "cell_type": "code",
      "source": [
        "criterion = nn.CrossEntropyLoss()\n",
        "optimizer = optim.Adam(model.parameters(), lr=learning_rate)"
      ],
      "metadata": {
        "id": "t_XpOjN8dKL-"
      },
      "execution_count": null,
      "outputs": []
    },
    {
      "cell_type": "markdown",
      "source": [
        "#### Train Network"
      ],
      "metadata": {
        "id": "0cDAhhfmdaiM"
      }
    },
    {
      "cell_type": "code",
      "source": [
        "for epoch in range(num_epochs): # One epoch means that the network has seen all the images in the dataset\n",
        "  for batch_idx, (data, targets) in enumerate(train_loader):\n",
        "    # Get data to cuda if possible\n",
        "    data = data.to(device=device)\n",
        "    targets = targets.to(device=device)\n",
        "\n",
        "    # Get to correct shape\n",
        "    data =data.reshape(data.shape[0], -1)\n",
        "\n",
        "    # Forward\n",
        "    scores = model(data)\n",
        "    loss =criterion(scores, targets)\n",
        "\n",
        "    # Backward\n",
        "    optimizer.zero_grad()\n",
        "    loss.backward()\n",
        "\n",
        "    # Gradient Descent or Adam Step\n",
        "    optimizer.step()\n",
        "\n"
      ],
      "metadata": {
        "id": "pf-yAoT2dZKv"
      },
      "execution_count": null,
      "outputs": []
    },
    {
      "cell_type": "markdown",
      "source": [
        "#### Check accuracy on training & test to see how good the model is"
      ],
      "metadata": {
        "id": "qtmojtazey_s"
      }
    },
    {
      "cell_type": "code",
      "source": [
        "def check_accuracy(loader, model):\n",
        "  if loader.dataset.train:\n",
        "    print(\"Checking accuracy on training data\")\n",
        "  else:\n",
        "    print(\"Checking accuracy on test data\")\n",
        "\n",
        "  num_correct = 0\n",
        "  num_samples = 0\n",
        "  model.eval()\n",
        "\n",
        "  with torch.no_grad():\n",
        "    for x, y in loader:\n",
        "      x = x.to(device=device)\n",
        "      y = y.to(device=device)\n",
        "      x = x.reshape(x.shape[0],-1)\n",
        "\n",
        "      scores = model(x)\n",
        "      # 64 images * 10,\n",
        "      _, predictions = scores.max(1)\n",
        "      num_correct += (predictions ==y).sum()\n",
        "      num_samples += predictions.size(0)\n",
        "\n",
        "    acc = float(num_correct)/float(num_samples)\n",
        "\n",
        "    print(f'Got {num_correct}/{num_samples} with accuracy {float(num_correct)/float(num_samples)*100:.2f}')\n",
        "\n",
        "  model.train()\n",
        "  # return acc"
      ],
      "metadata": {
        "id": "DjkbFwzNeBGq"
      },
      "execution_count": null,
      "outputs": []
    },
    {
      "cell_type": "code",
      "source": [
        "check_accuracy(train_loader, model)\n",
        "check_accuracy(test_loader, model)"
      ],
      "metadata": {
        "colab": {
          "base_uri": "https://localhost:8080/"
        },
        "id": "9TGM44x2f_6h",
        "outputId": "7756bc63-c8d3-4b9b-e2e9-f12e64741bac"
      },
      "execution_count": null,
      "outputs": [
        {
          "output_type": "stream",
          "name": "stdout",
          "text": [
            "Checking accuracy on training data\n",
            "Got 56042/60000 with accuracy 93.40\n",
            "Checking accuracy on test data\n",
            "Got 9353/10000 with accuracy 93.53\n"
          ]
        }
      ]
    },
    {
      "cell_type": "code",
      "source": [
        "#https://www.youtube.com/watch?v=JHWqWIoac2I&list=PLCC34OHNcOtpcgR9LEYSdi9r7XIbpkpK1&index=5\n",
        "import torch\n",
        "import torch.nn as nn\n",
        "import torch.nn.functional as F\n",
        "import pandas as pd\n",
        "from sklearn.model_selection import train_test_split\n",
        "import matplotlib.pyplot as plt\n",
        "%matplotlib inline\n"
      ],
      "metadata": {
        "id": "Ei2SkHlmgIbc"
      },
      "execution_count": 1,
      "outputs": []
    },
    {
      "cell_type": "code",
      "source": [
        "# Create a Model Class that inherits nn.Module\n",
        "class Model(nn.Module):\n",
        "  # Input layer (4 features of the flowers) -->\n",
        "  # Hidden Layer 1 (n,number of neurons)    -->\n",
        "  # Hidden Layer 2 (n,number of neurons)    -->\n",
        "  # Output (3 classes of Iris flower)\n",
        "\n",
        "  def __init__(self, in_features=4, h1=8, h2=9, out_features=3):\n",
        "    super().__init__() # Instantiate our nn.Module\n",
        "    self.fc1 = nn.Linear(in_features, h1) # fc =fully connected\n",
        "    self.fc2 = nn.Linear(h1,h2)\n",
        "    self.out = nn.Linear(h2, out_features)\n",
        "\n",
        "  def forward(self, x):\n",
        "    x = F.relu(self.fc1(x))\n",
        "    x = F.relu(self.fc2(x))\n",
        "    x = self.out(x)\n",
        "\n",
        "    return x\n"
      ],
      "metadata": {
        "id": "XNoKE5w0T68J"
      },
      "execution_count": null,
      "outputs": []
    },
    {
      "cell_type": "code",
      "source": [
        "# Pick a manual seed for randomization\n",
        "torch.manual_seed(41)\n",
        "# Create an instance of model\n",
        "model = Model()"
      ],
      "metadata": {
        "id": "TgniHx0SYksL"
      },
      "execution_count": null,
      "outputs": []
    },
    {
      "cell_type": "code",
      "source": [
        "url = 'https://gist.githubusercontent.com/netj/8836201/raw/6f9306ad21398ea43cba4f7d537619d0e07d5ae3/iris.csv'\n",
        "my_df = pd.read_csv(url)"
      ],
      "metadata": {
        "id": "7nX83Kj6mun1"
      },
      "execution_count": null,
      "outputs": []
    },
    {
      "cell_type": "code",
      "source": [
        "# Change last columns from stringers to numerical\n",
        "my_df['variety'] = my_df['variety'].replace('Setosa',0.0)\n",
        "my_df['variety'] = my_df['variety'].replace('Versicolor', 1.0)\n",
        "my_df['variety'] = my_df['variety'].replace('Virginica',2.0)"
      ],
      "metadata": {
        "colab": {
          "base_uri": "https://localhost:8080/"
        },
        "id": "b2LM_Hu_n0E3",
        "outputId": "131ee4e6-f79f-4501-dfde-cec146310b9f"
      },
      "execution_count": null,
      "outputs": [
        {
          "output_type": "stream",
          "name": "stderr",
          "text": [
            "<ipython-input-5-7b562b436d7d>:4: FutureWarning: Downcasting behavior in `replace` is deprecated and will be removed in a future version. To retain the old behavior, explicitly call `result.infer_objects(copy=False)`. To opt-in to the future behavior, set `pd.set_option('future.no_silent_downcasting', True)`\n",
            "  my_df['variety'] = my_df['variety'].replace('Virginica',2.0)\n"
          ]
        }
      ]
    },
    {
      "cell_type": "code",
      "source": [],
      "metadata": {
        "id": "RJ1Fs9RhoaZO"
      },
      "execution_count": null,
      "outputs": []
    },
    {
      "cell_type": "code",
      "source": [
        "# Train test Split! Set X, y\n",
        "X = my_df.drop('variety', axis=1)\n",
        "y = my_df['variety']\n",
        "# Convert DF to numpy arrays\n",
        "X = X.values\n",
        "y = y.values"
      ],
      "metadata": {
        "id": "-XZGPS4LofU8"
      },
      "execution_count": null,
      "outputs": []
    },
    {
      "cell_type": "code",
      "source": [
        "# Train Test Split\n",
        "X_train, X_test, y_train, y_test =train_test_split(X, y, test_size=0.2, random_state=41)"
      ],
      "metadata": {
        "id": "XKh-YKdso-G9"
      },
      "execution_count": null,
      "outputs": []
    },
    {
      "cell_type": "code",
      "source": [
        "# Convert X features from Numpy array to float tensors\n",
        "X_train = torch.FloatTensor(X_train)\n",
        "X_test = torch.FloatTensor(X_test)\n",
        "# Convert y labels from Numpy array to tensors long\n",
        "y_train = torch.LongTensor(y_train)\n",
        "y_test = torch.LongTensor(y_test)"
      ],
      "metadata": {
        "id": "wD0fUS-IpXxi"
      },
      "execution_count": null,
      "outputs": []
    },
    {
      "cell_type": "code",
      "source": [
        "# set the criteion of model to measure the error\n",
        "# How far are the predictions from the data\n",
        "criterion = nn.CrossEntropyLoss()\n",
        "# Coose an Optimizer --> Adam\n",
        "# Set Learning Rate. If error does not go down as we learn after a bunch of iterations(epochs), we lower our learning rate\n",
        "optimizer = torch.optim.Adam(model.parameters(), lr=0.01)\n"
      ],
      "metadata": {
        "id": "MwEQfHN9p5Ff"
      },
      "execution_count": null,
      "outputs": []
    },
    {
      "cell_type": "code",
      "source": [
        "model.parameters"
      ],
      "metadata": {
        "colab": {
          "base_uri": "https://localhost:8080/",
          "height": 187
        },
        "id": "efQGD6kpqtp4",
        "outputId": "8ae5ff4b-0979-47bc-d172-b651194176b9"
      },
      "execution_count": null,
      "outputs": [
        {
          "output_type": "execute_result",
          "data": {
            "text/plain": [
              "<bound method Module.parameters of Model(\n",
              "  (fc1): Linear(in_features=4, out_features=8, bias=True)\n",
              "  (fc2): Linear(in_features=8, out_features=9, bias=True)\n",
              "  (out): Linear(in_features=9, out_features=3, bias=True)\n",
              ")>"
            ],
            "text/html": [
              "<div style=\"max-width:800px; border: 1px solid var(--colab-border-color);\"><style>\n",
              "      pre.function-repr-contents {\n",
              "        overflow-x: auto;\n",
              "        padding: 8px 12px;\n",
              "        max-height: 500px;\n",
              "      }\n",
              "\n",
              "      pre.function-repr-contents.function-repr-contents-collapsed {\n",
              "        cursor: pointer;\n",
              "        max-height: 100px;\n",
              "      }\n",
              "    </style>\n",
              "    <pre style=\"white-space: initial; background:\n",
              "         var(--colab-secondary-surface-color); padding: 8px 12px;\n",
              "         border-bottom: 1px solid var(--colab-border-color);\"><b>torch.nn.modules.module.Module.parameters</b><br/>def parameters(recurse: bool=True) -&gt; Iterator[Parameter]</pre><pre class=\"function-repr-contents function-repr-contents-collapsed\" style=\"\"><a class=\"filepath\" style=\"display:none\" href=\"#\">/usr/local/lib/python3.11/dist-packages/torch/nn/modules/module.py</a>Return an iterator over module parameters.\n",
              "\n",
              "This is typically passed to an optimizer.\n",
              "\n",
              "Args:\n",
              "    recurse (bool): if True, then yields parameters of this module\n",
              "        and all submodules. Otherwise, yields only parameters that\n",
              "        are direct members of this module.\n",
              "\n",
              "Yields:\n",
              "    Parameter: module parameter\n",
              "\n",
              "Example::\n",
              "\n",
              "    &gt;&gt;&gt; # xdoctest: +SKIP(&quot;undefined vars&quot;)\n",
              "    &gt;&gt;&gt; for param in model.parameters():\n",
              "    &gt;&gt;&gt;     print(type(param), param.size())\n",
              "    &lt;class &#x27;torch.Tensor&#x27;&gt; (20L,)\n",
              "    &lt;class &#x27;torch.Tensor&#x27;&gt; (20L, 1L, 5L, 5L)</pre>\n",
              "      <script>\n",
              "      if (google.colab.kernel.accessAllowed && google.colab.files && google.colab.files.view) {\n",
              "        for (const element of document.querySelectorAll('.filepath')) {\n",
              "          element.style.display = 'block'\n",
              "          element.onclick = (event) => {\n",
              "            event.preventDefault();\n",
              "            event.stopPropagation();\n",
              "            google.colab.files.view(element.textContent, 2611);\n",
              "          };\n",
              "        }\n",
              "      }\n",
              "      for (const element of document.querySelectorAll('.function-repr-contents')) {\n",
              "        element.onclick = (event) => {\n",
              "          event.preventDefault();\n",
              "          event.stopPropagation();\n",
              "          element.classList.toggle('function-repr-contents-collapsed');\n",
              "        };\n",
              "      }\n",
              "      </script>\n",
              "      </div>"
            ]
          },
          "metadata": {},
          "execution_count": 10
        }
      ]
    },
    {
      "cell_type": "code",
      "source": [
        "# Train our Model\n",
        "# Epochs? (one run through all the training data in our network)\n",
        "epochs = 100\n",
        "# We want to keep track our loss over timne and see that it is decreasing\n",
        "losses = []\n",
        "for i in range(epochs+1):\n",
        "  # Go forward and get a prediction\n",
        "  y_pred = model.forward(X_train) # Get predicted results\n",
        "\n",
        "  # Measure the loss/error, gonna be high at first\n",
        "  loss = criterion(y_pred, y_train) # Predicted value vs the y_train\n",
        "\n",
        "  # keep track of our losses\n",
        "  losses.append(loss.detach().numpy())\n",
        "\n",
        "  # Print every 10 epochs\n",
        "  if i%10 == 0:\n",
        "    print(f'Epoch No: {i} and loss is {loss}')\n",
        "\n",
        "  # Do back propagation\n",
        "  optimizer.zero_grad()\n",
        "  loss.backward()\n",
        "  optimizer.step()\n"
      ],
      "metadata": {
        "colab": {
          "base_uri": "https://localhost:8080/"
        },
        "id": "x1GwWPl2qwGQ",
        "outputId": "2c5308cc-d369-4493-bf1c-08fd12ee8bd4"
      },
      "execution_count": null,
      "outputs": [
        {
          "output_type": "stream",
          "name": "stdout",
          "text": [
            "Epoch No: 0 and loss is 1.125203251838684\n",
            "Epoch No: 10 and loss is 1.0097211599349976\n",
            "Epoch No: 20 and loss is 0.8162348866462708\n",
            "Epoch No: 30 and loss is 0.585993230342865\n",
            "Epoch No: 40 and loss is 0.4003390073776245\n",
            "Epoch No: 50 and loss is 0.2679471969604492\n",
            "Epoch No: 60 and loss is 0.1796349734067917\n",
            "Epoch No: 70 and loss is 0.12165623158216476\n",
            "Epoch No: 80 and loss is 0.0860651433467865\n",
            "Epoch No: 90 and loss is 0.06522615998983383\n",
            "Epoch No: 100 and loss is 0.05286872386932373\n"
          ]
        }
      ]
    },
    {
      "cell_type": "code",
      "source": [
        "# graph it out\n",
        "plt.plot(range(epochs+1), losses)\n",
        "plt.ylabel(\"loss/error\")\n",
        "plt.xlabel('Epoch')"
      ],
      "metadata": {
        "colab": {
          "base_uri": "https://localhost:8080/",
          "height": 467
        },
        "id": "MWao2fLksHMi",
        "outputId": "e67dcb60-df4a-44f2-ae01-89f6c24c382c"
      },
      "execution_count": null,
      "outputs": [
        {
          "output_type": "execute_result",
          "data": {
            "text/plain": [
              "Text(0.5, 0, 'Epoch')"
            ]
          },
          "metadata": {},
          "execution_count": 12
        },
        {
          "output_type": "display_data",
          "data": {
            "text/plain": [
              "<Figure size 640x480 with 1 Axes>"
            ],
            "image/png": "[encoded data removed]"
          },
          "metadata": {}
        }
      ]
    },
    {
      "cell_type": "code",
      "source": [
        "# We can change learning rate or epochs if we are not satsified with the loss percentage"
      ],
      "metadata": {
        "id": "DEsSpH2Yt7qb"
      },
      "execution_count": null,
      "outputs": []
    },
    {
      "cell_type": "markdown",
      "source": [
        "#### Evaluate Test Data Set on Network"
      ],
      "metadata": {
        "id": "dSwpAplwuUpb"
      }
    },
    {
      "cell_type": "code",
      "source": [
        "# Evaluate Model on Test Data Set (Validate model on test set)\n",
        "with torch.no_grad():  # Basically turn off back propagation\n",
        "  y_eval = model.forward(X_test) # X_test are features from our test set, y_eval will predictions on test data\n",
        "  loss = criterion(y_eval, y_test) # Find the loss or error on test data\n",
        "loss"
      ],
      "metadata": {
        "colab": {
          "base_uri": "https://localhost:8080/"
        },
        "id": "r9iXkiHDuQPP",
        "outputId": "51f5bd77-1479-49b3-a52c-3aae49f88ccf"
      },
      "execution_count": null,
      "outputs": [
        {
          "output_type": "execute_result",
          "data": {
            "text/plain": [
              "tensor(0.1310)"
            ]
          },
          "metadata": {},
          "execution_count": 14
        }
      ]
    },
    {
      "cell_type": "code",
      "source": [
        "correct = 0\n",
        "with torch.no_grad():\n",
        "  for i, data in enumerate(X_test):\n",
        "    y_val = model.forward(data)\n",
        "\n",
        "    if y_test[i] == 0:\n",
        "      x = \"Setosa\"\n",
        "    elif y_test[i] == 1:\n",
        "      x = 'Versicolor'\n",
        "    else:\n",
        "      x = 'Virginica'\n",
        "\n",
        "    # Will tell us what type of flower class our network thinks it is\n",
        "    print(f'{i+1}.) {str(y_val)} \\t {y_test[i]} \\t {x} \\t {y_val.argmax().item()}')\n",
        "\n",
        "    # Correct or not\n",
        "    if y_val.argmax().item() == y_test[i]:\n",
        "      correct += 1\n",
        "print(f'\\n{correct} correct out of a total of {len(y_test)}')"
      ],
      "metadata": {
        "colab": {
          "base_uri": "https://localhost:8080/"
        },
        "id": "sLtJ78YPRhgI",
        "outputId": "c0e84310-6fff-4632-bb97-9d1aceed474c"
      },
      "execution_count": null,
      "outputs": [
        {
          "output_type": "stream",
          "name": "stdout",
          "text": [
            "1.) tensor([-5.9119,  4.4729,  6.5592]) \t 2 \t Virginica \t 2\n",
            "2.) tensor([-7.5894,  4.1582,  9.8069]) \t 2 \t Virginica \t 2\n",
            "3.) tensor([-8.5011,  5.1265, 10.2787]) \t 2 \t Virginica \t 2\n",
            "4.) tensor([-4.3686,  5.6678,  2.5653]) \t 1 \t Versicolor \t 1\n",
            "5.) tensor([-7.2266,  4.8809,  8.3632]) \t 2 \t Virginica \t 2\n",
            "6.) tensor([-3.4165,  5.3795,  1.2768]) \t 1 \t Versicolor \t 1\n",
            "7.) tensor([-5.9599,  4.9997,  6.0405]) \t 2 \t Virginica \t 2\n",
            "8.) tensor([-4.3174,  5.7426,  2.3931]) \t 1 \t Versicolor \t 1\n",
            "9.) tensor([-6.5762,  4.9372,  7.1788]) \t 2 \t Virginica \t 2\n",
            "10.) tensor([-8.1000,  4.4038, 10.4154]) \t 2 \t Virginica \t 2\n",
            "11.) tensor([-5.7122,  4.9689,  5.6599]) \t 2 \t Virginica \t 2\n",
            "12.) tensor([ 4.5903, -2.2652, -2.9050]) \t 0 \t Setosa \t 0\n",
            "13.) tensor([ 4.2790, -2.0123, -2.7456]) \t 0 \t Setosa \t 0\n",
            "14.) tensor([-2.1239,  4.0767,  0.5764]) \t 1 \t Versicolor \t 1\n",
            "15.) tensor([ 3.4679, -1.2128, -2.3579]) \t 0 \t Setosa \t 0\n",
            "16.) tensor([-5.5070,  5.1404,  5.1242]) \t 2 \t Virginica \t 1\n",
            "17.) tensor([ 4.0771, -1.8098, -2.6620]) \t 0 \t Setosa \t 0\n",
            "18.) tensor([-5.8438,  4.6181,  6.2907]) \t 1 \t Versicolor \t 2\n",
            "19.) tensor([ 4.9477, -2.5912, -3.0697]) \t 0 \t Setosa \t 0\n",
            "20.) tensor([ 3.4645, -1.2562, -2.3727]) \t 0 \t Setosa \t 0\n",
            "21.) tensor([-2.6342,  4.5901,  0.8537]) \t 1 \t Versicolor \t 1\n",
            "22.) tensor([-7.7886,  4.7362,  9.4962]) \t 2 \t Virginica \t 2\n",
            "23.) tensor([ 3.5849, -1.3253, -2.4199]) \t 0 \t Setosa \t 0\n",
            "24.) tensor([ 4.5600, -2.2554, -2.8818]) \t 0 \t Setosa \t 0\n",
            "25.) tensor([-2.6742,  4.6471,  0.8789]) \t 1 \t Versicolor \t 1\n",
            "26.) tensor([-3.3040,  5.2542,  1.2125]) \t 1 \t Versicolor \t 1\n",
            "27.) tensor([-4.6823,  5.8183,  2.9355]) \t 1 \t Versicolor \t 1\n",
            "28.) tensor([-2.9634,  4.9196,  1.0344]) \t 1 \t Versicolor \t 1\n",
            "29.) tensor([ 4.6087, -2.2863, -2.9113]) \t 0 \t Setosa \t 0\n",
            "30.) tensor([-4.6083,  5.4919,  3.1770]) \t 1 \t Versicolor \t 1\n",
            "\n",
            "28 correct out of a total of 30\n"
          ]
        }
      ]
    },
    {
      "cell_type": "markdown",
      "source": [
        "#### Evaluate NEW Data On The Network"
      ],
      "metadata": {
        "id": "PO7srwNdUGMN"
      }
    },
    {
      "cell_type": "code",
      "source": [
        "new_iris = torch.tensor([4.7,3.2,1.3,0.2])\n",
        "with torch.no_grad():\n",
        "  print(model(new_iris))\n",
        "new_iris2 = torch.tensor([5.9, 3.0,5.1,1.8])\n",
        "with torch.no_grad():\n",
        "  print(model(new_iris2))"
      ],
      "metadata": {
        "colab": {
          "base_uri": "https://localhost:8080/"
        },
        "id": "PXHUvSIYSOyj",
        "outputId": "9969a72d-52ea-4954-ba01-d7c77b7196d9"
      },
      "execution_count": null,
      "outputs": [
        {
          "output_type": "stream",
          "name": "stdout",
          "text": [
            "tensor([ 4.5600, -2.2554, -2.8818])\n",
            "tensor([-6.0323,  4.5171,  6.7302])\n"
          ]
        }
      ]
    },
    {
      "cell_type": "markdown",
      "source": [
        "### Save and Load Neural Network Model"
      ],
      "metadata": {
        "id": "Q8UB_fmvz7Xh"
      }
    },
    {
      "cell_type": "code",
      "source": [
        "torch.save(model.state_dict(), 'my_iris_nn_model.pt')"
      ],
      "metadata": {
        "id": "MEylR6g1zRYH"
      },
      "execution_count": null,
      "outputs": []
    },
    {
      "cell_type": "code",
      "source": [
        "# Load the Saved Model\n",
        "new_model = Model()\n",
        "new_model.load_state_dict(torch.load('my_iris_nn_model.pt'))"
      ],
      "metadata": {
        "colab": {
          "base_uri": "https://localhost:8080/"
        },
        "id": "qewqEYXC0Uoi",
        "outputId": "f2a525ba-73bb-4b6d-cb2a-e6b763d80ead"
      },
      "execution_count": null,
      "outputs": [
        {
          "output_type": "stream",
          "name": "stderr",
          "text": [
            "<ipython-input-19-35360c61eae9>:3: FutureWarning: You are using `torch.load` with `weights_only=False` (the current default value), which uses the default pickle module implicitly. It is possible to construct malicious pickle data which will execute arbitrary code during unpickling (See https://github.com/pytorch/pytorch/blob/main/SECURITY.md#untrusted-models for more details). In a future release, the default value for `weights_only` will be flipped to `True`. This limits the functions that could be executed during unpickling. Arbitrary objects will no longer be allowed to be loaded via this mode unless they are explicitly allowlisted by the user via `torch.serialization.add_safe_globals`. We recommend you start setting `weights_only=True` for any use case where you don't have full control of the loaded file. Please open an issue on GitHub for any issues related to this experimental feature.\n",
            "  new_model.load_state_dict(torch.load('my_iris_nn_model.pt'))\n"
          ]
        },
        {
          "output_type": "execute_result",
          "data": {
            "text/plain": [
              "<All keys matched successfully>"
            ]
          },
          "metadata": {},
          "execution_count": 19
        }
      ]
    },
    {
      "cell_type": "code",
      "source": [
        "# Make Sure it loaded correctly\n",
        "new_model.eval()"
      ],
      "metadata": {
        "colab": {
          "base_uri": "https://localhost:8080/"
        },
        "id": "OoKafOyp0gbK",
        "outputId": "64ff5656-d4eb-4f88-f2dc-6253c46b3e6c"
      },
      "execution_count": null,
      "outputs": [
        {
          "output_type": "execute_result",
          "data": {
            "text/plain": [
              "Model(\n",
              "  (fc1): Linear(in_features=4, out_features=8, bias=True)\n",
              "  (fc2): Linear(in_features=8, out_features=9, bias=True)\n",
              "  (out): Linear(in_features=9, out_features=3, bias=True)\n",
              ")"
            ]
          },
          "metadata": {},
          "execution_count": 23
        }
      ]
    },
    {
      "cell_type": "markdown",
      "source": [
        "# Convolutional Neural Network"
      ],
      "metadata": {
        "id": "UbWLYA5T07Xn"
      }
    },
    {
      "cell_type": "code",
      "source": [
        "import torch\n",
        "import torch.nn as nn\n",
        "import torch.nn.functional as F\n",
        "from torch.utils.data import DataLoader\n",
        "from torchvision import datasets, transforms\n",
        "from torchvision.utils import make_grid\n",
        "\n",
        "import pandas as pd\n",
        "import numpy as np\n",
        "from sklearn.metrics import confusion_matrix\n",
        "import matplotlib.pyplot as plt\n",
        "%matplotlib inline"
      ],
      "metadata": {
        "id": "3N9Ua9sx0mO7"
      },
      "execution_count": 1,
      "outputs": []
    },
    {
      "cell_type": "markdown",
      "source": [
        "#### Convert MNIST file into a Tensor of 4-dimensions:\n",
        "* Image No.\n",
        "* Height\n",
        "* Width\n",
        "* Color channel"
      ],
      "metadata": {
        "id": "VXgfFwLd4snP"
      }
    },
    {
      "cell_type": "code",
      "source": [
        "transform = transforms.ToTensor()"
      ],
      "metadata": {
        "id": "_hUJISH94XGC"
      },
      "execution_count": 2,
      "outputs": []
    },
    {
      "cell_type": "code",
      "source": [
        "# Train Data\n",
        "train_data = datasets.MNIST(root='cnn_data', train=True, download=True, transform=transform)\n",
        "# Test Data\n",
        "test_data = datasets.MNIST(root='cnn_data', train=False, download=True, transform=transform)\n",
        "train_data"
      ],
      "metadata": {
        "colab": {
          "base_uri": "https://localhost:8080/"
        },
        "id": "I0Cznz155YnY",
        "outputId": "3733ab6b-de80-49f1-bd7b-a8806eff70b6"
      },
      "execution_count": 3,
      "outputs": [
        {
          "output_type": "stream",
          "name": "stdout",
          "text": [
            "Downloading http://yann.lecun.com/exdb/mnist/train-images-idx3-ubyte.gz\n",
            "Failed to download (trying next):\n",
            "HTTP Error 404: Not Found\n",
            "\n",
            "Downloading https://ossci-datasets.s3.amazonaws.com/mnist/train-images-idx3-ubyte.gz\n",
            "Downloading https://ossci-datasets.s3.amazonaws.com/mnist/train-images-idx3-ubyte.gz to cnn_data/MNIST/raw/train-images-idx3-ubyte.gz\n"
          ]
        },
        {
          "output_type": "stream",
          "name": "stderr",
          "text": [
            "100%|██████████| 9.91M/9.91M [00:00<00:00, 42.6MB/s]\n"
          ]
        },
        {
          "output_type": "stream",
          "name": "stdout",
          "text": [
            "Extracting cnn_data/MNIST/raw/train-images-idx3-ubyte.gz to cnn_data/MNIST/raw\n",
            "\n",
            "Downloading http://yann.lecun.com/exdb/mnist/train-labels-idx1-ubyte.gz\n",
            "Failed to download (trying next):\n",
            "HTTP Error 404: Not Found\n",
            "\n",
            "Downloading https://ossci-datasets.s3.amazonaws.com/mnist/train-labels-idx1-ubyte.gz\n",
            "Downloading https://ossci-datasets.s3.amazonaws.com/mnist/train-labels-idx1-ubyte.gz to cnn_data/MNIST/raw/train-labels-idx1-ubyte.gz\n"
          ]
        },
        {
          "output_type": "stream",
          "name": "stderr",
          "text": [
            "100%|██████████| 28.9k/28.9k [00:00<00:00, 5.62MB/s]\n"
          ]
        },
        {
          "output_type": "stream",
          "name": "stdout",
          "text": [
            "Extracting cnn_data/MNIST/raw/train-labels-idx1-ubyte.gz to cnn_data/MNIST/raw\n",
            "\n",
            "Downloading http://yann.lecun.com/exdb/mnist/t10k-images-idx3-ubyte.gz\n",
            "Failed to download (trying next):\n",
            "HTTP Error 404: Not Found\n",
            "\n",
            "Downloading https://ossci-datasets.s3.amazonaws.com/mnist/t10k-images-idx3-ubyte.gz\n",
            "Downloading https://ossci-datasets.s3.amazonaws.com/mnist/t10k-images-idx3-ubyte.gz to cnn_data/MNIST/raw/t10k-images-idx3-ubyte.gz\n"
          ]
        },
        {
          "output_type": "stream",
          "name": "stderr",
          "text": [
            "100%|██████████| 1.65M/1.65M [00:00<00:00, 12.5MB/s]\n"
          ]
        },
        {
          "output_type": "stream",
          "name": "stdout",
          "text": [
            "Extracting cnn_data/MNIST/raw/t10k-images-idx3-ubyte.gz to cnn_data/MNIST/raw\n",
            "\n",
            "Downloading http://yann.lecun.com/exdb/mnist/t10k-labels-idx1-ubyte.gz\n",
            "Failed to download (trying next):\n",
            "HTTP Error 404: Not Found\n",
            "\n",
            "Downloading https://ossci-datasets.s3.amazonaws.com/mnist/t10k-labels-idx1-ubyte.gz\n",
            "Downloading https://ossci-datasets.s3.amazonaws.com/mnist/t10k-labels-idx1-ubyte.gz to cnn_data/MNIST/raw/t10k-labels-idx1-ubyte.gz\n"
          ]
        },
        {
          "output_type": "stream",
          "name": "stderr",
          "text": [
            "100%|██████████| 4.54k/4.54k [00:00<00:00, 8.77MB/s]\n"
          ]
        },
        {
          "output_type": "stream",
          "name": "stdout",
          "text": [
            "Extracting cnn_data/MNIST/raw/t10k-labels-idx1-ubyte.gz to cnn_data/MNIST/raw\n",
            "\n"
          ]
        },
        {
          "output_type": "execute_result",
          "data": {
            "text/plain": [
              "Dataset MNIST\n",
              "    Number of datapoints: 60000\n",
              "    Root location: cnn_data\n",
              "    Split: Train\n",
              "    StandardTransform\n",
              "Transform: ToTensor()"
            ]
          },
          "metadata": {},
          "execution_count": 3
        }
      ]
    },
    {
      "cell_type": "code",
      "source": [
        "test_data"
      ],
      "metadata": {
        "colab": {
          "base_uri": "https://localhost:8080/"
        },
        "id": "Z3Byyzdt52WA",
        "outputId": "3a4a0ebb-80a0-4768-9171-872d9e2a6374"
      },
      "execution_count": 4,
      "outputs": [
        {
          "output_type": "execute_result",
          "data": {
            "text/plain": [
              "Dataset MNIST\n",
              "    Number of datapoints: 10000\n",
              "    Root location: cnn_data\n",
              "    Split: Test\n",
              "    StandardTransform\n",
              "Transform: ToTensor()"
            ]
          },
          "metadata": {},
          "execution_count": 4
        }
      ]
    },
    {
      "cell_type": "code",
      "source": [
        "pwd"
      ],
      "metadata": {
        "colab": {
          "base_uri": "https://localhost:8080/",
          "height": 36
        },
        "id": "5rdW0b-H6Y0n",
        "outputId": "b74e9165-781e-4bad-94e7-dec197ef6e4e"
      },
      "execution_count": 5,
      "outputs": [
        {
          "output_type": "execute_result",
          "data": {
            "text/plain": [
              "'/content'"
            ],
            "application/vnd.google.colaboratory.intrinsic+json": {
              "type": "string"
            }
          },
          "metadata": {},
          "execution_count": 5
        }
      ]
    },
    {
      "cell_type": "code",
      "source": [
        "ls"
      ],
      "metadata": {
        "colab": {
          "base_uri": "https://localhost:8080/"
        },
        "id": "Yw6GZigF6eTw",
        "outputId": "b80ce1f2-af97-4901-d10b-06c25bc8ab12"
      },
      "execution_count": 6,
      "outputs": [
        {
          "output_type": "stream",
          "name": "stdout",
          "text": [
            "\u001b[0m\u001b[01;34mcnn_data\u001b[0m/  \u001b[01;34msample_data\u001b[0m/\n"
          ]
        }
      ]
    },
    {
      "cell_type": "code",
      "source": [
        "cd cnn_data/"
      ],
      "metadata": {
        "colab": {
          "base_uri": "https://localhost:8080/"
        },
        "id": "cRlYqMl56gQy",
        "outputId": "800f6200-21bb-4209-a451-9beb2ee3556a"
      },
      "execution_count": 7,
      "outputs": [
        {
          "output_type": "stream",
          "name": "stdout",
          "text": [
            "/content/cnn_data\n"
          ]
        }
      ]
    },
    {
      "cell_type": "code",
      "source": [
        "pwd"
      ],
      "metadata": {
        "colab": {
          "base_uri": "https://localhost:8080/",
          "height": 36
        },
        "id": "I6dFrhDd6sCt",
        "outputId": "87fe911a-2abd-41e0-d26c-7515c9285e3a"
      },
      "execution_count": 8,
      "outputs": [
        {
          "output_type": "execute_result",
          "data": {
            "text/plain": [
              "'/content/cnn_data'"
            ],
            "application/vnd.google.colaboratory.intrinsic+json": {
              "type": "string"
            }
          },
          "metadata": {},
          "execution_count": 8
        }
      ]
    },
    {
      "cell_type": "code",
      "source": [
        "ls"
      ],
      "metadata": {
        "colab": {
          "base_uri": "https://localhost:8080/"
        },
        "id": "NYELHXDC60tU",
        "outputId": "a7ecc2e4-4210-443b-8e8d-95f33239bd74"
      },
      "execution_count": 9,
      "outputs": [
        {
          "output_type": "stream",
          "name": "stdout",
          "text": [
            "\u001b[0m\u001b[01;34mMNIST\u001b[0m/\n"
          ]
        }
      ]
    },
    {
      "cell_type": "code",
      "source": [
        "cd .."
      ],
      "metadata": {
        "colab": {
          "base_uri": "https://localhost:8080/"
        },
        "id": "4CZOTyLY61Vn",
        "outputId": "13ce78f3-7b19-4a54-fc6e-0eb01cd7c485"
      },
      "execution_count": 10,
      "outputs": [
        {
          "output_type": "stream",
          "name": "stdout",
          "text": [
            "/content\n"
          ]
        }
      ]
    },
    {
      "cell_type": "code",
      "source": [
        "pwd"
      ],
      "metadata": {
        "colab": {
          "base_uri": "https://localhost:8080/",
          "height": 36
        },
        "id": "19bWRL157AZA",
        "outputId": "d82ac4d8-98d1-4508-fec5-9f64e35aba3f"
      },
      "execution_count": 11,
      "outputs": [
        {
          "output_type": "execute_result",
          "data": {
            "text/plain": [
              "'/content'"
            ],
            "application/vnd.google.colaboratory.intrinsic+json": {
              "type": "string"
            }
          },
          "metadata": {},
          "execution_count": 11
        }
      ]
    },
    {
      "cell_type": "code",
      "source": [
        "# Create a small batch size for images....let's say 10\n",
        "train_loader = DataLoader(train_data, batch_size=10, shuffle=True)\n",
        "test_loader = DataLoader(test_data, batch_size=10, shuffle=False)"
      ],
      "metadata": {
        "id": "PThjppOu7A57"
      },
      "execution_count": 12,
      "outputs": []
    },
    {
      "cell_type": "markdown",
      "source": [
        "#### Define our CNN Model example\n",
        "* Descrive 2 convolution layers and see what it is doing\n",
        "* Input Channel/Layer\n",
        "* Output Channel/Layer\n",
        "* Kernel (Filter) Size Stride\n",
        "* Padding is surrounding the image. There is not much at the edges. Outer couple of pixels get\n"
      ],
      "metadata": {
        "id": "3ENpyO90W1fU"
      }
    },
    {
      "cell_type": "markdown",
      "source": [
        "![TypicalCNN.jpg](data:image/jpeg;base64,/9j/4AAQSkZJRgABAQAAAQABAAD/2wCEAAkGBxMRERISExAVFhUXFhkVFRcVFxgXGBYXFRoYFxoVFxgYISogHholGxgXITEhJSorLi4uFx8zODMsNygtLisBCgoKDg0OGxAQGi0lHyAtNS0tLS0uKy0rLS8vKy0tLS0tLS0tLSstLS8tLy0rLS0tLS0tLSstLSstLTUtLS0tLv/AABEIAJ4BPgMBIgACEQEDEQH/xAAbAAACAwEBAQAAAAAAAAAAAAAABQMEBgIBB//EAEUQAAIBAgIHAgoIAwgDAQEAAAECEQADEiEEBRMiMUFRBjIzYWJxcoGRkqGxFCNCUrLR0uEHFXMWNENTgqLBwiSz8FRE/8QAGgEBAQADAQEAAAAAAAAAAAAAAAECAwUEBv/EADARAAICAQMDAQcEAQUAAAAAAAABAhEDBBIxIVFhMwUTFCJBcYEyUrHxoSORwdHw/9oADAMBAAIRAxEAPwD7HYQsCS795xkYEB2A5dBUmw8t/b+1eaJ3T6dz8bVNWtydlSIth5b+39qNh5b+39qloqbmWkRbDy39v7UbDy39v7VLRTcxSIth5b+39qNh5b+39qlopuYpEWw8t/b+1Gw8t/b+1S0U3MUhdrbS00azcv3LlzBbUu0ZkhQTAAGZyqDWmsRYe2hF5seLNWtgKEVnZmLsIUBePVl611r/AFKNKXASuEqyMrqzhg0cAHWDkRi4wxEgTMGkakvO4uHSUxqjW1YWWyRypYAG4VzwrJichWSfdkaJrutbIDRpBZgMQVXWWzIETAzIIzIGR6Gur2s7CiTpP3o3xJwLjYDru5+alidkiJm8jdyMVp90W9nhCxdnjbVjMkkmSQYry72QxAKbqEBNmBguxgwuuDw3DC7jxBjVtdyUxha1oGYIovl9kl50lAbS3Jwh5MYjhfIE9w+Kem1xowgnTFEgkTdUAgSSfNAJ81V72oLjszNetksgtv8AUvvouKFcC7DRjaJmMRqAdlSCG2luRz2TzwuDM7XPw1yZ44vEIWu4pl7S9bWUViLzOwEhEdS7bwSFBjPEQPXXl3XFgRGkFi3dVXEnu8zkO+gkkd9eoqmeypmdpaBlTIsuIKYIIi7kfq7cxxwLMwKhs9jAkBblsRhj6u79jZ4f8blsrXuCra7jqNRrXR8Sr9MWWOFRtBvHcyHXvofM69RXlrWlp2wpddxs3uF1ZSihCFgnjJJMZRuNnlS7+yOQG0tQBHgrkxBEE7aTkYz5BfurEuj9mWt48F9BjXA31d0yuJ3jO99645/1HrUtdwT6Drq1dVWL3LYbKLjICLmJkayQCfrFZYI4ZiCZqb+baPl/5Y3hK/WDMQGkdciD6xVO72bZmLm7axHHJFllJ2oUPOG6OIRc/EKiTsmQrILtuGifq7k7rm4IO2kb7FsomlruKZbua5TZ3rqm9cS0FM2yrbTGi3Bs88911PLjlNdNrmwFxNpBUHNJcEupZUDqFk4S7BRwkmotG1DctgBL6ABsYGyc7wXBJm7nu5QcshzqK12XKxhuWlAwQFsuqjZRs90XY3YEealruKZfTWmjkAjS1IMAEXF+0Aw/2kHzGa4sa3s3Lq2kvM5KsZVlKgqQMB54jJPD7DcOdJOysRD2BBBAFhgJUIokC7BgW0yOW6K7sdm2R0uLdtB0QWlbYtIRZhM7uY3ic+ZnjS13HUsWdbJcuNbtba4yjE2EqAFLMgaWIyLJcA67MnhBNVu0lsW2ukX8KEi5nbm3DRiYYu7s5uyJ3BPHKvbfZp14X0BwLbJFp1JRMWFWw3ROHE0E5jEYqU6iuSW21qW731DQ25s94bWG3N3OcqWu4pl7QtIF0uA1wFTBllzBzVhhndYZjxVb2Hlv7f2qlqXVh0cOC6tiIO6mCAqhAveOQVVUDKI5kk0yrFy7GSRFsPLf2/tRsPLf2/tUtFTcxSIth5b+39qNh5b+39qlopuYpEWw8t/b+1Gw8t/b+1S0U3MUiLYeW/t/ajYeW/t/apaKbmKRFsPLf2/tXKArcUYmIKsYJnMFI+ZqeoW8KnoP87dZRbskl0DRO6fTufjapqh0Tun07n42qasXyVcBRRRUKFFFFAFFFFAFFFFAFFFFAFFFFAFFFFAFFFFAFFFFAFFFFAFFFFAFFFFAFFFFAFV9P01LNs3HMKOmZJOQAHWumvTkok8z9kec9fEPhS3X+qDpFkqH3wQykyFkSIgcAQT1PDjWcIpyW7gwm3te3kn1Prq1pIbBiBXirAAgHgciRHrpjWS7OamuaO7O5AYgKsGQMR+1yIJWPFl1rVWbmITEEZEdD0rPNCMZfI7RjilJx+bk7ooorSbQooqvpenW7UY3CzMeYRLGOCiRLHISJoCxRVNta2A2E3rYMYs3UZZZ8fGPbXa6wtG4LQuoXIZgoYEkIVDGPEWX20oFmoW8KnoP87dTVC3hU9B/nbrKPJJcBondPp3PxtU1Q6J3T6dz8bVNUfIXAVW0/STbUEAGWAJJIVQZ3mIByyjzkVZmioUVHXJz+ouEDHJA4YADEcZMxHirk66zX6lwMShiR3Q4Jk9IgEzypvSbXXaNNGuC21t2JUNK4YgkiMz5NZwg5uooxlJRVs9s68JibDiSAOu9MTIyaADh8dMNA0o3UDFGTxNx4A/I1n/7b2v8m7/s/VR/be1/k3P9n6q2fDZf2mv4jH3NQxypLa12+FTc0dlYqGIkEKGMAk8hGZPLhVfQu11u7cS2LVwFjhBOGBPWDWimtcscoOpIzjOMv0sTNrsopZ7LhRtGJiMK24iQeZBHsNM9C0kXbaXBwZQwzB4+MV3fuqo32UA5bxAB8WdRLptoCBdtx6S/nWDaMrPNO0k28EKDibCSZAXJjyBzJAA8Z9Ro/wA8yLbC7hEEkCYBBYwBmcIVpAzkRmaYfTrX+anvr+dd2tJRsldWPiYH5UtCxVc14Qc7DgANiykgqQAuXPjl0KEca9OvCs4rD/a7ufdYrAyEtADR0k8qc1ntO11dS66KEgGBuknKOJxDrXm1Wrx6aKlk4bo2Y8csjqI70W9jWSpUywIPVWK+zKQekVNWX/n177qe4f11JY1/cxDaBcGeLCpmIPDePOOVeOPtnSyklb6+Dc9JlSui5a1+hG8jrJIEjjAJBE8jDCeEqc4gntNeWyYhuKAZT4QAgnpmY58KYbNTGQ4dBwPKvdksRArq9DykWgaYt5FuLOFpiecGJy5ZVYpZf07RdDFu0XS1inZ21GbZiSqKJIlhJjKc67TWk3SmCEA8KblrCTEwqhi3izA9dC0xhXL3AokkAdSYHtNJn0ki1c+kaXbWSMJ0cQyDLdly+Mk5SFGRyE515ctWyNGH0S5pAyZLlwKxtBol3OkMHDQQYAxZRGUUAxOsU22w3y8SYt3CiiJ3rgXACRwBMmokvX7i3Pq1stwtm4drPUuiECOEAPnPKpbb39qwKWxaHdYOzXGOXFcICiZ5nlwqK3oFw22S7pDuWjetjY4YjJMJxAHxsTnxqkEug9p7lx7YNtIYqDAYnejhnxrSYGbvbo+6DmfSI+Q9prGar0qxtLMaLh3lg7a42HMQYPGOlbPase6vrbd+HH2gVkyEqqAIAgdKWa+1uNGtFhDPIVVnmebRygE+OKv7Ge8xPiG6vsGZ9ZNQaw1bbvWjaYQpzGGAQRwI5TSG1SW7gk9217eRFqHXh0kst1VDKMysgFGIU5EmCDhMzwmnyzmRm65MOGMcj5+Y8cilOhdn00eYLOXyJJg89wRESPiIJg1ft3GADzjwyH5MQOfQnmOEZ9a3ZdjlcODVj3JfPyMLbhgCDkeFdUuv6bbtA3CwC/bB4gnIMBxMnLLjxHOa9ztEjW8dkbQ4sJXNSu6zCRBO8VCjLMsBWhwdXXQ3KauhzSvXY0bc+kMoyYAFmBZWjEpCneUwsgyDAqzo2mY7lxBhhQpDBpnEJgiOkZiQZ6g1ge2N3/zLuJshgUSfIUwPWSfXW3TYfezpujVnyvHG0h3c0XVhBXaQCZbDcujFkowkzwhFECIAyiTNrQrur7Nza27ih9/PFcPhCpYAEwASi5cBhyisJXOMcJHGOPOJjzxnXv8AgIfuZ4/jZ9j69ZvK6hlYMpzBBkHzEVw3hU9B/nbrPdgWJsXBOQuZeKVU/OtCfCp6D/O3XOnDZkcex7oz3wUu5Fo6A8QON05/1DVO7cxcAAvKAASOpPGrS9x/Ne/Gap1wPbGeeNKMelt2z1YYp9WV7qKGWTE5DvTPLOY65HjTTQXVjhZVmMjAzH51jOz2vr7HWb6SptWLN0qmMRu2iWa4MgcOAW+M5nIxkNBqHSF0jY30JKsmMAhd0HEJBHUEc4IzrHTYcuDLFJ7k0t33fb+RKSkmPNH7q+YVhe3/APebf9Jfx3K3ej91fMKwnb/+82/6S/juV9L7P9RfY8Os9NmZVJ9p5Dr5q8OEZFh/tqRP+T8zXIJBO6TJnKOgHM+Ku3JtHMxxTbv+Uv5ILd+2xZRcUlc2G7kOp8VbvsHrg3lNvGjW7aIqFY80SOJiKw1h3gg24AGRLDePmEwK0HYvQ2vLpCPo+jmQn1dz6y2QG4sCg3vFHIZ9PJqluw2z0YPly1F9B/8AxB8Ba/qj8D1hQPEfbWl/iBqo/RtDUCwgtuFwraaBunK1DrgTd4EH7PCIORTQjtdrtXjPck4DxGY+NfLalLfz9Dfn/UWo8R9tXtS6e2j3VuDFHBwCCWXjGfmFLtF0cpM3HeTO+QY8QgDKpq827a7RpTp2j6xoOki7bS4AQHUMAeIBE5xWU1v4d/S/5StF2e/uuj/0k+QrO628O/pf8pWv24708H5/4Z3tA7n+CoonkPd6+uvcHkj3f3rnkPNz9Gu2SATu5eT+9fKt19Tqobaj1iUItt3SYXdM4mIAHE5eqtLXzm9pLKuIWGbNYAFud4gDi4HMVpNS63bAivZucABgTFgy4XMJOfjGWRr6n2RrJSSwz/D+30Obq8G171+TrtAoN+2Ms1VcwDAa9bUxPOCaTW7gIBwpJUNARmjEJElbZFMdd6cp0y3ah8Q2f+Hcwn6602VzDgOXj45caRaPrK0bRIuKRbQM+9AXDYJGLMQJU+yuhlT3uhhpwVjLR9KNtsSgA+K3cEjoYt8K02rNPF1SYMjvbrASemIAmsSdPtyQLyNBKyocgkGMiLmdSWNZhGDLcAYcPq3PERwL1jDPsdN/+/3M56berin/AJ/6N/Qaq6t05b9sOkxJGYjMcatV7001aOe006Zg9U37W0s/Uld5IJuyBmIJ3BPtrb/SF6z5gT8hWM1Vd0faWYt3BvLBa4sDMQTu1tUuq3BgfMQflWySMDn6QOje4/5Up7T6ye1o5a2GDFguIr3QZzz55R66d1V1rdtLac3o2cbwImZ4COZmKY2lJOrJNNxfUzHZPWd26blp2LjCGVic1IPU+ojjEU9V3RpOFQxIeM8LqO8JjIjPhwAPWqWqrmiPbbYAJhIYyCGDGQpmSTOYyPPLOpdJxlccYpIUW2icQzGM8COXmMyco9GSpTfSvBohaguti7tBorXUFpJbCcaSQJWCuEAQBmwjrK8OcnZLUl2ybj3JQsAoUEE5EkkxI83rq1auL3sQAH1is+7kJgNPCcyD0UdKu3Nd2hbW4pxgkjdIkFUa4QZORCoxik8s1DYuBHHFz3Pku7I/5jf7P01807Z6Nj0u8pZsiue7Jmyqwco4MeVfSrekAu6YSCoUyYghpiM5+yRnFfPO1n98v+dP/WlZ6Hrkd9jHWdIKu5nTq5c95ufMZYonlxy4n10WNXKjKwZjhiJIPBSvTofgOlXKK62yPY5rnKuTb/w/8Dd/q/8ARa0R8KnoP87dZ3+H/gbv9X/otaI+FT0H+duuJn9eR1sPpI40Pj67v/sNVdMsbLPLB7MPi83yqzo4PEAHeujMxxuHxeKqw1ZB3YHXOT4hOH5zXK12FZsbjtt30+lf4Z6cbp2JdI1ct5y73cdl0wm1INt+Iz6iOQq7q8310cMhtLODCGtNAx4VHBwSBNWjq15VgwBU8es8eX/3Oa8/loIFtgxXDwF66o3SIiDI9VeX2bp5423kvp0XY25JpqjsXNJWzbw2rVy5liG0a0uHPNTgck8MjHPPLPG/xB0kjS7Km22dpMwUgHHcyIJDewVtG1Fo72VsXLKXLa5hbg2gkzJ35niePWlfavsyl+LyW5vIqoncAwhpiW4QGbmK7ulmoTTZ4tRByg0j5xY1laZ3tht9MTMIOQUwT5sxVnR763FDIwZTzHCpDaKFlIAYMwYZcQxBzHjFE13Y2ceVBWr/AIf+EveivzNZSa1X8P8Awl70V+ZrRrPRkbtL6qLv8QvAWv6w/A9YdOHrPzNfVdbatTSLZRvOpicLRAYePM18+0rUV5HdFs3GAYgMEaGE8cq+U1OOTluR7s8HdoVs+cQT5o/5NRW9IJcrsnAH2zgw8AYyaefSmLan0mZFi5wjO29RW9SaWHJNpyhzwiy4PADvT4uleZY5dv5MHBbeOv5/o3vZ3WS/Q0Jt3VFu0kzaeTlxQAEvw+zPKl+vnshF0kOERmIba47ZJDLwV1BEYW4x1pnqHV91dFVHv3AxtqBuW1ayQPsgqc/SnhVt9WYra23v32gk4xc2btM5E2guWfAAcBXuz6bHqMWyf9HvxTljpoxR0q3ku0XEVBVcQxEFTBAmSKuOJBE9RXXaHs5bR0vYZCwELO5KsFYzhO7/AKjJqtY1fatu9xLSK7mXdVAZ+e8wzNfFa3TrBLZK7Xjp/R2sOTetyI9I0e6UCrcRSCpBNst3SDwxjp1p7qLRbrDLSGTCVx4ET6w/6w2EZHh140vp72b4XPOvyNer2LllLVRT8/RdjXrfTOtYamNy6t4XnkMkISuzCqysQAFxTuzmePirInV2ztXEY3JNuGV7jkj/AMdshJ3ePKOXSvotKteas2qMUG/hfIQMZZCgBNfXZYWrXJz8OTa6fB851nqqxjuWjZQot1yqsMQBxNnvTnmfbXVWta+Hvf1X/EaqzXBySbk039T6PEkoKuyN72N/uo9NqeUj7G/3Uem1PK72n9KP2Pm9T6svuzB6pNkXLJG1G8kYmSOIiYUZVuSquOCsPURWJ1S2jC5Zw/SJxJGMWo4iMUGY81bVrCkyVE9Yz9vGvSzznn0ZeSx6Mr8qWdotUm/ZKIxxBgyhmJBiRBmeRNM9hHBmHrxfimlnaDWL6NZLiGJYKsrwJkyYOeQPrisse7ctr6mE9u17uBT2c1O+js1y9uZQIwsB1LHMDhl66b6TbYb5cjEMLAgZW+bHx8PaByFKez+vbl8lLoBw7wMYQcwIc8AAYPCmZWF2inHJwIB9mcpt8hzOfKMwBW/Lv949/Jpx7Ni2cCXXNi5cssqjFhYXBlBa1mAR4plo9lSdjNW3RtGdSqnDAdeLKSQ2FunXx00MIVYZqsYjmIn/AA4PJYDgcgsc6b3dJRFxM6hepIjnz8wPsNSeZqGxLoywxJz3N8EaaOVJK7MEwCRbgkDIAkNyFfO+2CFtK0hcUE4RIHW2nKf+a+lLfUsUDDEACRzAPA1857Wf3y/50/8AWlZ6Drkf2MdZ0gvuZz6G8QLseZSBxmIVhGXTPxxlXei6MUY78rmY6szEkn1YR7as0V1lBI5rm2bj+H/gbv8AV/6LWiPhU9B/nbrO/wAP/A3f6v8A0WtEfCp6D/O3XEz+vI62H0kGid0+nc/G1TVDondPp3PxtU1ed8m9HNy4FEsQB1Jjx/Kqv0U7ba7RsODDgk4ZnvR5q70/QlvKFYkYWDgiJDLwOYPA5x4qoDs5ZwkHEZ4liCc/GR5vYKJ0GrG20ExOcTHiGU11VHQdVraZmVmJYsTiM98gnl5Iq9UKQNoVskk2kJOZJVcyeZyrz6Da/wAq37i/lViiruZKRX+g2v8AKt+4v5VJa0dF7qKvXCoE+ypKKWxSCiiioUKKKKAKKKKA4vWwysp4EEHzHKqH8jteV71MqK05dPiy+pFOu6syjOUf0uhb/I7Xle9VnQtCW0CFnPjJnhVmiscelw43uhBJ+EiyyTkqbYUUUV6DAXjUtgXWvi2BcYEMQThYmN5knAzCBvET486gFi5ZtMXsppDA7os27dtmXLiLj4Swz+0AegpvRUpFtigsm2sxpLWWZZGjHZKLgHGUZSwYFhJUjlNWluX1N0siOoBa2LZIduJFsq+6DEDFiAJ5AVau2VaMShoIYSAYIzBE8wedVU0Ao9x0u3N8Hcdi9sOYhgrbyxHdVguZynOqYmU1VZsbSzhvOd5YBtgA5iJOKtiLJXuGB90931c19WXipBoXZZrbWybwIUqTCkE4Y4HFlwp/jKd7Mfe6ekP+R8KzIdLfEwwwnoeB8x4H5+IVxp+hpetm24lT6jlwIPI1MwDDMAg9cwaR9q7tyzo5Nt2ALBSeaqeatxEmB/qyirBbpJLozGbqLbJ9C1Ta0ZStuZfvMx3sK5nhEAA8ubCpCisxuFclWEA3SS0RmMwYjzB/PWa7I6TcZrisS6KoY4mJCweBJkhTmYHHD560lu3O9czAM4YyNxvsxzIEDOR5ordlhKEmpO2asclKKaQn7VWiNH3GZt4bUjMFcyc+JhgMiTAB8dUOx+iG6LgKk2gQRvFRjIZGwnxozA+ceKtrZtZ4jE8ABwUdB/yamC1PiP8ATcKL7n51OyrbTCWbZsWMAmU4LwHEZZk+cmvnXbK8RpV4hcy1oQTEYltrMies19PrG9qOz165eN20uPHGIYlUgqAv2iBEAc+tZ6OcY5OrroY6qDlDp16mF/mS/dfiF7vPPx+I8OlFrWKsRusA0YTlmTPIHLJSfUa0X9mtL/8Azn37X668PZrS/wD8x9+1+uun72H70c/3cv2M0fYDwN3+r/0WtEfCp6D/ADt0t7LarbRrJDkYmbEQDIGQAE8zApk3hU9B/nbrj5ZKWVtHTxRccSTKek2bj2Stp8D7UkN4lvYmGXVQR66XJomsQ0HSkKhUzKoMbY2LiFSRK4Ri4DpOYe6J3T6dz8bVNWl8m5CBdW6Xs0B0v6wXC7PyKskFQuGIDEkAgjIeqvpGiayVN3SUdgFB3UDEyuIiUC5DFHD18tPRSxRQ1TZvqH290OS0rAUYV5LuqM4iTnn04C+aKKhRHcOmqxw7NlLXSA0SACNkojDAImScR4eOK4uayAY4LTEwQDkEOGyCMmmJF88TBKZxNONbNeFo/RwhuSsYwSsSMWQIzwzGdJr+layWALFkneEiSJ2hCHDtBANuCc8j7KpDvSv5gxUDZBdtallEHZLdttc4ue9bFwREgkATOIaKqurmulW2yqGxsFw8Cn2TxOcfLgOFWqjCClOt7elG7bOj3FVBbul1YAh7k2tkpyxBYF0EqREjjlUd8aYLrlMDIbqBQ0btnZrjIAwnEbkiSTAPA8Kq2busZDNatZ4QUEQud6WDY5J8B1EYog1Qe6Q+sCN1LQgkjOJhxgVt48UxYgOGUE8rWrvpZvTewC2EIAXKWOyMsMTZgi6ImIw5mTFLSW1k1ogJZW4bYErO67WyWK4n5XYGY7u9md2rWlXdOF18Fuy1rEcEyHK7IkEnHE7WBEDI+ugHlFZ/V+k6ezDa2bSqGQNAIyK75U4zIDHLLlGfEaCoyirW2j6S1xGsXFVVtXQVbFndY2tk0DkALvH7wyPEU7ljWBaRdtQoEDhiOyuK2MYTu7TZmAfvZ8BWhrP7LWGe/ZOYjjkAB5OYJxDrEEGeNIeC3rHeO1sDvYRBI8HbwgmB/ibUk9MHjFNtU2riWlW62J5YkzPFmIzgciBwHCqGpPphKnSMABWSqxiViqZNEgw+04HIYc2NOjQIKTafpelJdcpZV7Sqkd4Ozs0EgiZVRmRE8KiXWWlr3tFDZ3c1LCFV2W3ugNJKhWMkZHIE5VEmudLCydAJYkkKGIwjBiAcwRMwsjrwyNKAXta6ZildDyGMEMx4h0VCWVSYwYm3Q3ejippjqnSbzte2tvAA8WxxlQOMxnJk9KqjWOlNcRfouBdqys0s31aEANGEAYgcUyRA4kyBGNc6VnOr24wIecoUyd3LvFeea5wMwBoKU6402+jqtq0WBRmZsLNBD21C5EZkM5593pNc6m1tevkY9Fa2pEhiSfsocwVEZsy/6CeBBq7rW+6W8VtMTYkEQW3WdVYwueSlj4omgEI7RaSTiGr7gTCGgi4Ln/8ATKgYImbVmJjww8VNtXayuXXKPoz2wBIZpIJhDGaj78D0G4RS+32muNAGgX8WHGVIIIBuNbEgiRJUnhwzp5oN9riBmQoSTumZABIBMgcQJ9dGANormnDmvL1dD8PnXOkaTbwMbkBAIcPGU5QwPX48pqzSbtVq1r9gi2JcEMBwxATKz6584rKFSkk3+TGdqLaOLGnaObUaPggsAVVcOZzzWAc4jhmJimmjWIgnjyB5TxPpHmazXY3U1y273bqFcsKgxM82jl09ZrW1szpRk4xd+TDDco3JUFFFFaDcFFFFAFFFFBQVC3hU9B/nbqaoW8KnoP8AO3WUeTGXAaJ3T6dz8bVNUOid0+nc/G1TVHyVcBRRRUKFFFVdYW7rAbK4qGQTiWZE5gGcv/uFVK2RukWqKiwv95PcP6qML/eT3D+qlCyWiosL/eT3D+qjC/3k9w/qpQsloqLC/wB5PcP6qML/AHk9w/qpQsloqhp2nbE2xcuoNo+BdwwWws+ZxQN1GMnpVUdoLJCkaVaYN3cKs07xQnJuAYEE8iM4pQsc0UobXlkGDpdiZA4c2LKB3+ZRx/oboaj/ALQ2tobe3UMHuIQbVwZ2VDvnMQAePAkEDMGlDcO6KWWNbW7hUJpNli0YQoJnECwIhsxCsZ8Rq9hf7ye4f1UoWS0VFhf7ye4f1UYX+8nuH9VKFktFRYX+8nuH9VGF/vJ7h/VShZLRUWF/vJ7h/VVfTLV9gNndRTiBJKE5cxBbP4eeiV/Ujfgu0ULwzoqGQRRRRQBRVLSNbWbdw23uBWCBzOQCsSoMnqVPsqHQtfWLrFVeGDMgDZFihIOHqMj6qUBnRSOzrUKzs+mWSphre6RCzHI5zK5yZkHnUr69srx0uwMyJOQleOZfgOE1k4+TFS8Deik/89tYip0m2rAlYdGQkqquYDNnCsvDrUOrtdKCTdvrheGtymCFdmRVJniSpyjpnTaN3gfUUuXXujFgg0i2WOYUMCTvBMgOO8QPOaY1iZBRRRQBULeFT0H+dupqhbwqeg/zt1lHkkuA0Tun07n42qaodE7p9O5+NqmqPkLgKK4V94joAfbP5V3UKFFFFAFFFFAFFFFQBRRUFrTLbAlbikAsCZHFDDD1GQelUHV/RkfDiUNhJKyJglShjzqzDzE1W/lFmQ2yUkAAEySACCBJ9FfYBwFWLelo2KLinCSrQwyIzIPjou6WixLqJbCM+LQThHjgEx4qAr2NT2EjDaVSDIK5GQXMyM/8S577daH1NYLFzZTEeLYRi4uePHjcuH/WanGnW8RTaJiCqxGISFfEFJHQ4Wg+Sa5v6fbSA1xQW7omScicgMzkCculUhW0TUWj2u5ZUZqRlwwdwDoF5DgKZVwt1TliE55SOXGu6hQoooqAKKKKAKKKKoCiiigCiuLzwAfGo9rAf815abNx0aB5sKn5k0olkWlavtXMWO2rYgoaRxCElQfMSfaaitansK6utpQylmUgRDXBDN5yCfaakfWNpXCG4oacMT9rCbkHocAnPl5xUl7S0QSXHEDjOZIA4eMjzTPChSt/JrGX1KZAAZcACCAPNA9g6V7/ACaxBGxSCGUiOKvOJT1UyZByNS6JrC3dUOjgq2anhIPAiYyzHtr3R9Ot3BK3FI6g5HzHgeB4dKEIzqqyZJtiWBDcd4MFU4ushV4/dFctqiwcE2UOCMOXDCSwg+ck+urN+5uMyn7JIIz5ZV7aO846MI91f3q/QFTRdT2baqqWwAsR51JYNH3pJM8c6v0tbX2ji7ctG8qvbIVg0qJKbWASIO5vZcgehoXX2jkuNsgwd4sQBGUmTyGIA9CYNTqUZUUmPabR93fnEWWMpBUSQwnLLPPqOtTrr7RywUXV4AzO6Q3dIY5GYyieXWlAZVC3hU9B/nbr3Sm3HI+6Y9lDeFT0H+dusorqYyfQ80Tun07n42qeq9uy6yAVjExEzO8xaPjXeG55Hxo4uwmcFsLkkGCq8ATmC08POK6246N7jflRhueR8a9w3PI+NXa+ws8246N7jflRtx0b3G/KvcNzyPjRhueR8am3wLPNuOje435UbcdG9xvyr3Dc8j40YbnkfGm3wLPNuOje435UbcdG9xvyr3Dc8j40YbnkfGm3wLPNuOje435UnfUOikzsmmXM4CTN1mdiCVyJLtw4gwZGVOcNzyPjRhueR8au1ksQnszomFU2dzCoKgb8QbZtZ5Z7rN7Z6RaXVFgCFtsv1xv5IfCHFJO7vd5u9MZdBDTDc8j40YbnkfGlMCK12a0Re7bujIjLaAjFt5IIzB/8i8ZHDH4hHdvUGjKMIS4BMxDccGz6cMMCOGQiKdYbnkfGjDc8j40pgUaHqPRrTo6W3DJGEkOYwo1oDhyRiPYTJzpttx0b3G/KvcNzyPjRhueR8abWLPNuOje435UbcdG9xvyr3Dc8j40YbnkfGpt8Fs8246N7jflRtx0b3G/KvcNzyPjRhueR8abfAs8246N7jflRtx0b3G/KvcNzyPjRhueR8abfAs8246N7jflRtx0b3G/KvcNzyPjRhueR8abfAsjuPigAN3gc1I4GefmrrNWbdJBg5FekcyOldYbnkfGvMNzyPjVpk6CzS9T27pbFau5ubkB1AxlDbJjFzUwQcvFmZgXs5YGH6i5usrKMYgFWtuODcMVpGI5mSZNO8NzyPjRhueR8aUwIj2Z0fCy7C6FZVUgOuYXFH2vLb2g8QCDSOzGjuGDWLhDKyEY1G68SuTeSvjy88vcNzyPjRhueR8aUwVrOj4UNtLbKCzNmVIBuOXY94mJZsqnKsGJAUgxxJGYy6HxV1hueR8aMNzyPjSmOgl0u5o+1a1cSzjJLuCxO81preJzhgE2lZc4y89U9K+g4WZ1sMCWVt9mMgsr4oWczbYMx72GCTTHSuzVq67O9tSzGTv3QJwm3IAaBusRl1njXj9mLRJJtLJMk470zN5pBxZZ6ReOX3/EItAq6UmhWwGdNHzLEb5YscBYwApJOzQ5DkMqnXQtGLBQlgtiMAXTixqSxIgTjBYmeOdeP2TsFWU2lhlwEbS93SjWyO9lKMwJGZmTnVmzqBEcXFtoGBJBxXDBIA4FoiFEDgIpTBeuK7ArhUA5E4icvNhr1vCp6D/O3XWG55HxrxLTYwzFclYZT9oqefo/GiTsPg//Z)"
      ],
      "metadata": {
        "id": "LV-9m364-uCx"
      }
    },
    {
      "cell_type": "code",
      "source": [
        "conv1 = nn.Conv2d(1,6,3,1) # 1 image. 6 filters, kernel size is 3*3, we want to stride it 1 at a time\n",
        "conv2 = nn.Conv2d(6,16,3,1) # 6 outputs from the previous layer becoem 6 inputs. 16 Outputs. 3 kernel/filter size. Step the filter 1 at a time."
      ],
      "metadata": {
        "id": "qQZtvtSUAinE"
      },
      "execution_count": 13,
      "outputs": []
    },
    {
      "cell_type": "code",
      "source": [
        "# Grab 1 MNIST record/image\n",
        "for i, (X_Train, y_train) in enumerate(train_data):\n",
        "  break"
      ],
      "metadata": {
        "id": "24KM5-o_BEcv"
      },
      "execution_count": 14,
      "outputs": []
    },
    {
      "cell_type": "code",
      "source": [
        "print(i)\n",
        "print(  X_Train.shape)\n",
        "print(\"*\"*10)\n",
        "print( y_train)"
      ],
      "metadata": {
        "colab": {
          "base_uri": "https://localhost:8080/"
        },
        "id": "QKGKVRthBOgS",
        "outputId": "7fd6cbcf-cd6b-493b-bd5c-473c19da913c"
      },
      "execution_count": 15,
      "outputs": [
        {
          "output_type": "stream",
          "name": "stdout",
          "text": [
            "0\n",
            "torch.Size([1, 28, 28])\n",
            "**********\n",
            "5\n"
          ]
        }
      ]
    },
    {
      "cell_type": "code",
      "source": [
        "x = X_Train.view(1,1,28,28)"
      ],
      "metadata": {
        "id": "Uhf1ItJzBO2y"
      },
      "execution_count": 16,
      "outputs": []
    },
    {
      "cell_type": "code",
      "source": [
        "# Perform our first convolution\n",
        "x = F.relu(conv1(x)) # Rectified Linear Unit for our activation function\n",
        "# 1 single image\n",
        "# 6 is the filters we asked for\n",
        "# 26*26 is the image from 28*28\n",
        "x.shape"
      ],
      "metadata": {
        "colab": {
          "base_uri": "https://localhost:8080/"
        },
        "id": "rZTXw4YNBzTh",
        "outputId": "4709fed2-460e-4a39-c403-00faaa731ef3"
      },
      "execution_count": 17,
      "outputs": [
        {
          "output_type": "execute_result",
          "data": {
            "text/plain": [
              "torch.Size([1, 6, 26, 26])"
            ]
          },
          "metadata": {},
          "execution_count": 17
        }
      ]
    },
    {
      "cell_type": "code",
      "source": [
        "# Pooling Layer: Pass through the pooling layer\n",
        "x = F.max_pool2d(x, 2,2) # Kernel Size of 2 and Stride of 2\n",
        "x.shape # 26/2 = 13"
      ],
      "metadata": {
        "id": "xHviEDwxWXy0"
      },
      "execution_count": 18,
      "outputs": []
    },
    {
      "cell_type": "code",
      "source": [
        "# Second Convolutional Layer\n",
        "x =  F.relu(conv2(x))\n",
        "x.shape. # 2 pixel lost to padding. that is why 13*13 becomes 11*11"
      ],
      "metadata": {
        "colab": {
          "base_uri": "https://localhost:8080/"
        },
        "id": "CakjTASp9IEu",
        "outputId": "405220ed-25c1-405d-943c-f8891cdff13c"
      },
      "execution_count": 20,
      "outputs": [
        {
          "output_type": "execute_result",
          "data": {
            "text/plain": [
              "torch.Size([1, 16, 11, 11])"
            ]
          },
          "metadata": {},
          "execution_count": 20
        }
      ]
    },
    {
      "cell_type": "code",
      "source": [
        "#Pooling Layer\n",
        "x = F.max_pool2d(x,2,2)\n",
        "x.shape # 11/2 =5.5 --> round to 5\n",
        "# (28) --> 28-2 to padding --> 26 /2 --> 13 --> 13-2 to padding --> 11/2 --> 5"
      ],
      "metadata": {
        "colab": {
          "base_uri": "https://localhost:8080/"
        },
        "id": "5cTD0Z6F9mzk",
        "outputId": "1ab3c2a2-e128-44dc-e48d-2db734056380"
      },
      "execution_count": 21,
      "outputs": [
        {
          "output_type": "execute_result",
          "data": {
            "text/plain": [
              "torch.Size([1, 16, 5, 5])"
            ]
          },
          "metadata": {},
          "execution_count": 21
        }
      ]
    },
    {
      "cell_type": "markdown",
      "source": [
        "### CNN Model"
      ],
      "metadata": {
        "id": "tI7D13Ou_HGC"
      }
    },
    {
      "cell_type": "code",
      "source": [
        "class ConvolutionalNetwork(nn.Module):\n",
        "  def __init__(self):\n",
        "    super().__init__()\n",
        "    self.conv1 = nn.Conv2d(1,6,3,1)\n",
        "    self.conv2 = nn.Conv2d(6,16,3,1)\n",
        "    # Fully Connected Layers\n",
        "    self.fc1 = nn.Linear(5*5*16, 120)\n",
        "    self.fc2 = nn.Linear(120,84)\n",
        "    self.fc3 = nn.Linear(84,10)\n",
        "\n",
        "  def forward(self, X):\n",
        "    # First Pass\n",
        "    X = F.relu(self.conv1(X))\n",
        "    X = F.max_pool2d(X,2,2) # 2*2 kernel and stride 2\n",
        "    # Second Pass\n",
        "    X = F.relu(self.conv2(X))\n",
        "    X = F.max_pool2d(X,2,2) # 2*2 kernel and stride 2\n",
        "\n",
        "    # Re-View to flatten it our\n",
        "    X = X.view(-1, 16*5*5) # Negative one so that we can vary the batch size\n",
        "\n",
        "    # Conbv layer 1 --> Pooling Layer 1 --> Conv Layer 2 --> Pooling Layer 2 --> 3 FC Layers\n",
        "    # Fully Connected Layers\n",
        "    X = F.relu(self.fc1(X))\n",
        "    X = F.relu(self.fc2(X))\n",
        "    X = self.fc3(X)\n",
        "\n",
        "    return F.log_softmax(X, dim=1)\n",
        "\n"
      ],
      "metadata": {
        "id": "c2AAZR-f985K"
      },
      "execution_count": 25,
      "outputs": []
    },
    {
      "cell_type": "code",
      "source": [
        "# Create an instance of our Model\n",
        "# Set a manual seed\n",
        "torch.manual_seed(41)\n",
        "model = ConvolutionalNetwork()\n",
        "model"
      ],
      "metadata": {
        "colab": {
          "base_uri": "https://localhost:8080/"
        },
        "id": "f5lNpaoMCVEZ",
        "outputId": "60b44cad-94ec-44fe-e911-395f8890b39a"
      },
      "execution_count": 26,
      "outputs": [
        {
          "output_type": "execute_result",
          "data": {
            "text/plain": [
              "ConvolutionalNetwork(\n",
              "  (conv1): Conv2d(1, 6, kernel_size=(3, 3), stride=(1, 1))\n",
              "  (conv2): Conv2d(6, 16, kernel_size=(3, 3), stride=(1, 1))\n",
              "  (fc1): Linear(in_features=400, out_features=120, bias=True)\n",
              "  (fc2): Linear(in_features=120, out_features=84, bias=True)\n",
              "  (fc3): Linear(in_features=84, out_features=10, bias=True)\n",
              ")"
            ]
          },
          "metadata": {},
          "execution_count": 26
        }
      ]
    },
    {
      "cell_type": "code",
      "source": [
        "# Loss Function Optimizer\n",
        "crierion = nn.CrossEntropyLoss()\n",
        "optimizer = torch.optim.Adam(model.parameters(), lr = 0.001). # The smaller the learning rate the longer it. is going to take to train"
      ],
      "metadata": {
        "id": "2krz5ImBCmHZ"
      },
      "execution_count": null,
      "outputs": []
    }
  ]
}