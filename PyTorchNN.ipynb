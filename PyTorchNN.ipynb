{
  "nbformat": 4,
  "nbformat_minor": 0,
  "metadata": {
    "colab": {
      "provenance": [],
      "gpuType": "T4",
      "authorship_tag": "ABX9TyMnzztn3Zn+EuNho7MNDDjX",
      "include_colab_link": true
    },
    "kernelspec": {
      "name": "python3",
      "display_name": "Python 3"
    },
    "language_info": {
      "name": "python"
    },
    "accelerator": "GPU"
  },
  "cells": [
    {
      "cell_type": "markdown",
      "metadata": {
        "id": "view-in-github",
        "colab_type": "text"
      },
      "source": [
        "<a href=\"https://colab.research.google.com/github/insoucyant/MachineLearning/blob/main/PyTorchNN.ipynb\" target=\"_parent\"><img src=\"https://colab.research.google.com/assets/colab-badge.svg\" alt=\"Open In Colab\"/></a>"
      ]
    },
    {
      "cell_type": "code",
      "execution_count": null,
      "metadata": {
        "id": "LVekw6GNp2Kh"
      },
      "outputs": [],
      "source": [
        "#https://www.youtube.com/watch?v=Jy4wM2X21u0\n",
        "#Import\n",
        "import torch\n",
        "import numpy as np\n",
        "import torch.nn as nn\n",
        "import torch.optim as optim # Gradient Descent, Adam\n",
        "import torch.nn.functional as F # Relu, Sigmoid\n",
        "from torch.utils.data import DataLoader\n",
        "import torchvision.datasets as datasets # MNSIST Dataset 28*28 =784\n",
        "import torchvision.transforms as transforms"
      ]
    },
    {
      "cell_type": "markdown",
      "source": [
        "# Sections\n",
        "* Imports\n",
        "* Create Fully Connected Netowrk\n",
        "* Hyperparameters\n",
        "* Load Data\n",
        "* Initialize Network\n",
        "* Loss and optimizer\n",
        "* Train Network\n",
        "* Check accuracy on training & test to see how good our model is"
      ],
      "metadata": {
        "id": "JqbWUsRTqDsv"
      }
    },
    {
      "cell_type": "code",
      "source": [
        "class NN(nn.Module):\n",
        "  def __init__(self, input_size, num_classes):  # Input size = 28*28=784,\n",
        "    super(NN, self).__init__()\n",
        "    self.fc1 = nn.Linear(input_size, 50) # Input size nodes to hidden layer of 50 modes. fc= Fully Connected\n",
        "    self.fc2 = nn.Linear(50, num_classes) # Hidden layer 50 nodes to putput classes\n",
        "\n",
        "  def forward(self,x):\n",
        "    x = F.relu(self.fc1(x))\n",
        "    x = self.fc2(x)\n",
        "    return x"
      ],
      "metadata": {
        "id": "-Ji2sHjmqCuQ"
      },
      "execution_count": null,
      "outputs": []
    },
    {
      "cell_type": "code",
      "source": [
        "model = NN(784,10)\n",
        "x = torch.randn(64,784) # Minibatch size\n",
        "print(model(x).shape)\n"
      ],
      "metadata": {
        "colab": {
          "base_uri": "https://localhost:8080/"
        },
        "id": "lMPXmmO9ApAh",
        "outputId": "f4c01f55-c4bf-4d12-c404-2ac790faf0c3"
      },
      "execution_count": null,
      "outputs": [
        {
          "output_type": "stream",
          "name": "stdout",
          "text": [
            "torch.Size([64, 10])\n"
          ]
        }
      ]
    },
    {
      "cell_type": "markdown",
      "source": [
        "#### Set Device"
      ],
      "metadata": {
        "id": "md-VBE3SBqFV"
      }
    },
    {
      "cell_type": "code",
      "source": [
        "device = torch.device('cuda' if torch.cuda.is_available() else 'cpu')"
      ],
      "metadata": {
        "id": "vs3W_VtIA3oS"
      },
      "execution_count": null,
      "outputs": []
    },
    {
      "cell_type": "markdown",
      "source": [
        "#### Hyperparameters"
      ],
      "metadata": {
        "id": "mptiUjO2BoEa"
      }
    },
    {
      "cell_type": "code",
      "source": [
        "input_size = 784\n",
        "num_classes = 10\n",
        "learning_rate = 0.001\n",
        "batch_size = 64\n",
        "num_epochs = 1"
      ],
      "metadata": {
        "id": "aHzbQEW0CIl4"
      },
      "execution_count": null,
      "outputs": []
    },
    {
      "cell_type": "markdown",
      "source": [
        "#### Load Data"
      ],
      "metadata": {
        "id": "vSpJYwspCVO4"
      }
    },
    {
      "cell_type": "code",
      "source": [
        "train_dataset = datasets.MNIST(root = 'dataset/', train = True, transform = transforms.ToTensor(), download=True)\n",
        "train_loader = DataLoader(dataset=train_dataset, batch_size=batch_size, shuffle=True)\n",
        "test_dataset = datasets.MNIST(root = 'dataset/', train=False, transform=transforms.ToTensor(), download=True)\n",
        "test_loader = DataLoader(dataset=test_dataset, batch_size=batch_size, shuffle=True)"
      ],
      "metadata": {
        "id": "z6JcZRKICUJo"
      },
      "execution_count": null,
      "outputs": []
    },
    {
      "cell_type": "markdown",
      "source": [
        "#### Initialize Network"
      ],
      "metadata": {
        "id": "KxQ8ZDrtctQ6"
      }
    },
    {
      "cell_type": "code",
      "source": [
        "model = NN(input_size=input_size, num_classes=num_classes).to(device)"
      ],
      "metadata": {
        "id": "_X0YnX1ocsEX"
      },
      "execution_count": null,
      "outputs": []
    },
    {
      "cell_type": "markdown",
      "source": [
        "#### Loss and optimizer"
      ],
      "metadata": {
        "id": "FsPxCl17dKvB"
      }
    },
    {
      "cell_type": "code",
      "source": [
        "criterion = nn.CrossEntropyLoss()\n",
        "optimizer = optim.Adam(model.parameters(), lr=learning_rate)"
      ],
      "metadata": {
        "id": "t_XpOjN8dKL-"
      },
      "execution_count": null,
      "outputs": []
    },
    {
      "cell_type": "markdown",
      "source": [
        "#### Train Network"
      ],
      "metadata": {
        "id": "0cDAhhfmdaiM"
      }
    },
    {
      "cell_type": "code",
      "source": [
        "for epoch in range(num_epochs): # One epoch means that the network has seen all the images in teh dataset\n",
        "  for batch_idx, (data, targets) in enumerate(train_loader):\n",
        "    # Get data to cuda if possible\n",
        "    data = data.to(device=device)\n",
        "    targets = targets.to(device=device)\n",
        "\n",
        "    # Get to correct shape\n",
        "    data =data.reshape(data.shape[0], -1)\n",
        "\n",
        "    # Forward\n",
        "    scores = model(data)\n",
        "    loss =criterion(scores, targets)\n",
        "\n",
        "    # backward\n",
        "    optimizer.zero_grad()\n",
        "    loss.backward()\n",
        "\n",
        "    # gradient descent or adam step\n",
        "    optimizer.step()\n",
        "\n"
      ],
      "metadata": {
        "id": "pf-yAoT2dZKv"
      },
      "execution_count": null,
      "outputs": []
    },
    {
      "cell_type": "markdown",
      "source": [
        "#### Check accuracy on training & test to see how good the model is"
      ],
      "metadata": {
        "id": "qtmojtazey_s"
      }
    },
    {
      "cell_type": "code",
      "source": [
        "def check_accuracy(loader, model):\n",
        "  if loader.dataset.train:\n",
        "    print(\"Checking accuracy on training data\")\n",
        "  else:\n",
        "    print(\"Checking accuracy on test data\")\n",
        "\n",
        "  num_correct = 0\n",
        "  num_samples = 0\n",
        "  model.eval()\n",
        "\n",
        "  with torch.no_grad():\n",
        "    for x, y in loader:\n",
        "      x = x.to(device=device)\n",
        "      y = y.to(device=device)\n",
        "      x = x.reshape(x.shape[0],-1)\n",
        "\n",
        "      scores = model(x)\n",
        "      # 64 images * 10,\n",
        "      _, predictions = scores.max(1)\n",
        "      num_correct += (predictions ==y).sum()\n",
        "      num_samples += predictions.size(0)\n",
        "\n",
        "    acc = float(num_correct)/float(num_samples)\n",
        "\n",
        "    print(f'Got {num_correct}/{num_samples} with accuracy {float(num_correct)/float(num_samples)*100:.2f}')\n",
        "\n",
        "  model.train()\n",
        "  # return acc"
      ],
      "metadata": {
        "id": "DjkbFwzNeBGq"
      },
      "execution_count": null,
      "outputs": []
    },
    {
      "cell_type": "code",
      "source": [
        "check_accuracy(train_loader, model)\n",
        "check_accuracy(test_loader, model)"
      ],
      "metadata": {
        "colab": {
          "base_uri": "https://localhost:8080/"
        },
        "id": "9TGM44x2f_6h",
        "outputId": "7756bc63-c8d3-4b9b-e2e9-f12e64741bac"
      },
      "execution_count": null,
      "outputs": [
        {
          "output_type": "stream",
          "name": "stdout",
          "text": [
            "Checking accuracy on training data\n",
            "Got 56042/60000 with accuracy 93.40\n",
            "Checking accuracy on test data\n",
            "Got 9353/10000 with accuracy 93.53\n"
          ]
        }
      ]
    },
    {
      "cell_type": "code",
      "source": [
        "#https://www.youtube.com/watch?v=JHWqWIoac2I&list=PLCC34OHNcOtpcgR9LEYSdi9r7XIbpkpK1&index=5\n",
        "import torch\n",
        "import torch.nn as nn\n",
        "import torch.nn.functional as F\n",
        "import pandas as pd\n",
        "from sklearn.model_selection import train_test_split\n",
        "import matplotlib.pyplot as plt\n",
        "%matplotlib inline\n"
      ],
      "metadata": {
        "id": "Ei2SkHlmgIbc"
      },
      "execution_count": 1,
      "outputs": []
    },
    {
      "cell_type": "code",
      "source": [
        "# Create a Model Class that inherits nn.Module\n",
        "class Model(nn.Module):\n",
        "  # Input layer (4 features of the flowers) -->\n",
        "  # Hidden Layer 1 (n,number of neurons)    -->\n",
        "  # Hidden Layer 2 (n,number of neurons)    -->\n",
        "  # Output (3 classes of Iris flower)\n",
        "\n",
        "  def __init__(self, in_features=4, h1=8, h2=9, out_features=3):\n",
        "    super().__init__() # Instantiate our nn.Module\n",
        "    self.fc1 = nn.Linear(in_features, h1) # fc =fully connected\n",
        "    self.fc2 = nn.Linear(h1,h2)\n",
        "    self.out = nn.Linear(h2, out_features)\n",
        "\n",
        "  def forward(self, x):\n",
        "    x = F.relu(self.fc1(x))\n",
        "    x = F.relu(self.fc2(x))\n",
        "    x = self.out(x)\n",
        "\n",
        "    return x\n"
      ],
      "metadata": {
        "id": "XNoKE5w0T68J"
      },
      "execution_count": 2,
      "outputs": []
    },
    {
      "cell_type": "code",
      "source": [
        "# Pick a manual seed for randomization\n",
        "torch.manual_seed(41)\n",
        "# Create an instance of model\n",
        "model = Model()"
      ],
      "metadata": {
        "id": "TgniHx0SYksL"
      },
      "execution_count": 3,
      "outputs": []
    },
    {
      "cell_type": "code",
      "source": [
        "url = 'https://gist.githubusercontent.com/netj/8836201/raw/6f9306ad21398ea43cba4f7d537619d0e07d5ae3/iris.csv'\n",
        "my_df = pd.read_csv(url)"
      ],
      "metadata": {
        "id": "7nX83Kj6mun1"
      },
      "execution_count": 4,
      "outputs": []
    },
    {
      "cell_type": "code",
      "source": [
        "# Change last columns from stringers to numerical\n",
        "my_df['variety'] = my_df['variety'].replace('Setosa',0.0)\n",
        "my_df['variety'] = my_df['variety'].replace('Versicolor', 1.0)\n",
        "my_df['variety'] = my_df['variety'].replace('Virginica',2.0)"
      ],
      "metadata": {
        "colab": {
          "base_uri": "https://localhost:8080/"
        },
        "id": "b2LM_Hu_n0E3",
        "outputId": "131ee4e6-f79f-4501-dfde-cec146310b9f"
      },
      "execution_count": 5,
      "outputs": [
        {
          "output_type": "stream",
          "name": "stderr",
          "text": [
            "<ipython-input-5-7b562b436d7d>:4: FutureWarning: Downcasting behavior in `replace` is deprecated and will be removed in a future version. To retain the old behavior, explicitly call `result.infer_objects(copy=False)`. To opt-in to the future behavior, set `pd.set_option('future.no_silent_downcasting', True)`\n",
            "  my_df['variety'] = my_df['variety'].replace('Virginica',2.0)\n"
          ]
        }
      ]
    },
    {
      "cell_type": "code",
      "source": [],
      "metadata": {
        "id": "RJ1Fs9RhoaZO"
      },
      "execution_count": 5,
      "outputs": []
    },
    {
      "cell_type": "code",
      "source": [
        "# Train test Split! Set X, y\n",
        "X = my_df.drop('variety', axis=1)\n",
        "y = my_df['variety']\n",
        "# Convert DF to numpy arrays\n",
        "X = X.values\n",
        "y = y.values"
      ],
      "metadata": {
        "id": "-XZGPS4LofU8"
      },
      "execution_count": 6,
      "outputs": []
    },
    {
      "cell_type": "code",
      "source": [
        "# Train Test Split\n",
        "X_train, X_test, y_train, y_test =train_test_split(X, y, test_size=0.2, random_state=41)"
      ],
      "metadata": {
        "id": "XKh-YKdso-G9"
      },
      "execution_count": 7,
      "outputs": []
    },
    {
      "cell_type": "code",
      "source": [
        "# Convert X features from Numpy array to float tensors\n",
        "X_train = torch.FloatTensor(X_train)\n",
        "X_test = torch.FloatTensor(X_test)\n",
        "# Convert y labels from Numpy array to tensors long\n",
        "y_train = torch.LongTensor(y_train)\n",
        "y_test = torch.LongTensor(y_test)"
      ],
      "metadata": {
        "id": "wD0fUS-IpXxi"
      },
      "execution_count": 8,
      "outputs": []
    },
    {
      "cell_type": "code",
      "source": [
        "# set the criteion of model to measure the error\n",
        "# How far are the predictions from the data\n",
        "criterion = nn.CrossEntropyLoss()\n",
        "# Coose an Optimizer --> Adam\n",
        "# Set Learning Rate. If error does not go down as we learn after a bunch of iterations(epochs), we lower our learning rate\n",
        "optimizer = torch.optim.Adam(model.parameters(), lr=0.01)\n"
      ],
      "metadata": {
        "id": "MwEQfHN9p5Ff"
      },
      "execution_count": 9,
      "outputs": []
    },
    {
      "cell_type": "code",
      "source": [
        "model.parameters"
      ],
      "metadata": {
        "colab": {
          "base_uri": "https://localhost:8080/",
          "height": 187
        },
        "id": "efQGD6kpqtp4",
        "outputId": "8ae5ff4b-0979-47bc-d172-b651194176b9"
      },
      "execution_count": 10,
      "outputs": [
        {
          "output_type": "execute_result",
          "data": {
            "text/plain": [
              "<bound method Module.parameters of Model(\n",
              "  (fc1): Linear(in_features=4, out_features=8, bias=True)\n",
              "  (fc2): Linear(in_features=8, out_features=9, bias=True)\n",
              "  (out): Linear(in_features=9, out_features=3, bias=True)\n",
              ")>"
            ],
            "text/html": [
              "<div style=\"max-width:800px; border: 1px solid var(--colab-border-color);\"><style>\n",
              "      pre.function-repr-contents {\n",
              "        overflow-x: auto;\n",
              "        padding: 8px 12px;\n",
              "        max-height: 500px;\n",
              "      }\n",
              "\n",
              "      pre.function-repr-contents.function-repr-contents-collapsed {\n",
              "        cursor: pointer;\n",
              "        max-height: 100px;\n",
              "      }\n",
              "    </style>\n",
              "    <pre style=\"white-space: initial; background:\n",
              "         var(--colab-secondary-surface-color); padding: 8px 12px;\n",
              "         border-bottom: 1px solid var(--colab-border-color);\"><b>torch.nn.modules.module.Module.parameters</b><br/>def parameters(recurse: bool=True) -&gt; Iterator[Parameter]</pre><pre class=\"function-repr-contents function-repr-contents-collapsed\" style=\"\"><a class=\"filepath\" style=\"display:none\" href=\"#\">/usr/local/lib/python3.11/dist-packages/torch/nn/modules/module.py</a>Return an iterator over module parameters.\n",
              "\n",
              "This is typically passed to an optimizer.\n",
              "\n",
              "Args:\n",
              "    recurse (bool): if True, then yields parameters of this module\n",
              "        and all submodules. Otherwise, yields only parameters that\n",
              "        are direct members of this module.\n",
              "\n",
              "Yields:\n",
              "    Parameter: module parameter\n",
              "\n",
              "Example::\n",
              "\n",
              "    &gt;&gt;&gt; # xdoctest: +SKIP(&quot;undefined vars&quot;)\n",
              "    &gt;&gt;&gt; for param in model.parameters():\n",
              "    &gt;&gt;&gt;     print(type(param), param.size())\n",
              "    &lt;class &#x27;torch.Tensor&#x27;&gt; (20L,)\n",
              "    &lt;class &#x27;torch.Tensor&#x27;&gt; (20L, 1L, 5L, 5L)</pre>\n",
              "      <script>\n",
              "      if (google.colab.kernel.accessAllowed && google.colab.files && google.colab.files.view) {\n",
              "        for (const element of document.querySelectorAll('.filepath')) {\n",
              "          element.style.display = 'block'\n",
              "          element.onclick = (event) => {\n",
              "            event.preventDefault();\n",
              "            event.stopPropagation();\n",
              "            google.colab.files.view(element.textContent, 2611);\n",
              "          };\n",
              "        }\n",
              "      }\n",
              "      for (const element of document.querySelectorAll('.function-repr-contents')) {\n",
              "        element.onclick = (event) => {\n",
              "          event.preventDefault();\n",
              "          event.stopPropagation();\n",
              "          element.classList.toggle('function-repr-contents-collapsed');\n",
              "        };\n",
              "      }\n",
              "      </script>\n",
              "      </div>"
            ]
          },
          "metadata": {},
          "execution_count": 10
        }
      ]
    },
    {
      "cell_type": "code",
      "source": [
        "# Train our Model\n",
        "# Epochs? (one run through all the training data in our network)\n",
        "epochs = 100\n",
        "# We want to keep track our loss over timne and see that it is decreasing\n",
        "losses = []\n",
        "for i in range(epochs+1):\n",
        "  # Go forward and get a prediction\n",
        "  y_pred = model.forward(X_train) # Get predicted results\n",
        "\n",
        "  # Measure the loss/error, gonna be high at first\n",
        "  loss = criterion(y_pred, y_train) # Predicted value vs the y_train\n",
        "\n",
        "  # keep track of our losses\n",
        "  losses.append(loss.detach().numpy())\n",
        "\n",
        "  # Print every 10 epochs\n",
        "  if i%10 == 0:\n",
        "    print(f'Epoch No: {i} and loss is {loss}')\n",
        "\n",
        "  # Do back propagation\n",
        "  optimizer.zero_grad()\n",
        "  loss.backward()\n",
        "  optimizer.step()\n"
      ],
      "metadata": {
        "colab": {
          "base_uri": "https://localhost:8080/"
        },
        "id": "x1GwWPl2qwGQ",
        "outputId": "2c5308cc-d369-4493-bf1c-08fd12ee8bd4"
      },
      "execution_count": 11,
      "outputs": [
        {
          "output_type": "stream",
          "name": "stdout",
          "text": [
            "Epoch No: 0 and loss is 1.125203251838684\n",
            "Epoch No: 10 and loss is 1.0097211599349976\n",
            "Epoch No: 20 and loss is 0.8162348866462708\n",
            "Epoch No: 30 and loss is 0.585993230342865\n",
            "Epoch No: 40 and loss is 0.4003390073776245\n",
            "Epoch No: 50 and loss is 0.2679471969604492\n",
            "Epoch No: 60 and loss is 0.1796349734067917\n",
            "Epoch No: 70 and loss is 0.12165623158216476\n",
            "Epoch No: 80 and loss is 0.0860651433467865\n",
            "Epoch No: 90 and loss is 0.06522615998983383\n",
            "Epoch No: 100 and loss is 0.05286872386932373\n"
          ]
        }
      ]
    },
    {
      "cell_type": "code",
      "source": [
        "# graph it out\n",
        "plt.plot(range(epochs+1), losses)\n",
        "plt.ylabel(\"loss/error\")\n",
        "plt.xlabel('Epoch')"
      ],
      "metadata": {
        "colab": {
          "base_uri": "https://localhost:8080/",
          "height": 467
        },
        "id": "MWao2fLksHMi",
        "outputId": "e67dcb60-df4a-44f2-ae01-89f6c24c382c"
      },
      "execution_count": 12,
      "outputs": [
        {
          "output_type": "execute_result",
          "data": {
            "text/plain": [
              "Text(0.5, 0, 'Epoch')"
            ]
          },
          "metadata": {},
          "execution_count": 12
        },
        {
          "output_type": "display_data",
          "data": {
            "text/plain": [
              "<Figure size 640x480 with 1 Axes>"
            ],
            "image/png": "[encoded data removed]"
          },
          "metadata": {}
        }
      ]
    },
    {
      "cell_type": "code",
      "source": [
        "# We can change learning rate or epochs if we are not satsified with the loss percentage"
      ],
      "metadata": {
        "id": "DEsSpH2Yt7qb"
      },
      "execution_count": 13,
      "outputs": []
    },
    {
      "cell_type": "markdown",
      "source": [
        "#### Evaluate Test Data Set on Network"
      ],
      "metadata": {
        "id": "dSwpAplwuUpb"
      }
    },
    {
      "cell_type": "code",
      "source": [
        "# Evaluate Model on Test Data Set (Validate model on test set)\n",
        "with torch.no_grad():  # Basically turn off back propagation\n",
        "  y_eval = model.forward(X_test) # X_test are features from our test set, y_eval will predictions on test data\n",
        "  loss = criterion(y_eval, y_test) # Find the loss or error on test data\n",
        "loss"
      ],
      "metadata": {
        "colab": {
          "base_uri": "https://localhost:8080/"
        },
        "id": "r9iXkiHDuQPP",
        "outputId": "51f5bd77-1479-49b3-a52c-3aae49f88ccf"
      },
      "execution_count": 14,
      "outputs": [
        {
          "output_type": "execute_result",
          "data": {
            "text/plain": [
              "tensor(0.1310)"
            ]
          },
          "metadata": {},
          "execution_count": 14
        }
      ]
    },
    {
      "cell_type": "code",
      "source": [
        "correct = 0\n",
        "with torch.no_grad():\n",
        "  for i, data in enumerate(X_test):\n",
        "    y_val = model.forward(data)\n",
        "\n",
        "    if y_test[i] == 0:\n",
        "      x = \"Setosa\"\n",
        "    elif y_test[i] == 1:\n",
        "      x = 'Versicolor'\n",
        "    else:\n",
        "      x = 'Virginica'\n",
        "\n",
        "    # Will tell us what type of flower class our network thinks it is\n",
        "    print(f'{i+1}.) {str(y_val)} \\t {y_test[i]} \\t {x} \\t {y_val.argmax().item()}')\n",
        "\n",
        "    # Correct or not\n",
        "    if y_val.argmax().item() == y_test[i]:\n",
        "      correct += 1\n",
        "print(f'\\n{correct} correct out of a total of {len(y_test)}')"
      ],
      "metadata": {
        "colab": {
          "base_uri": "https://localhost:8080/"
        },
        "id": "sLtJ78YPRhgI",
        "outputId": "c0e84310-6fff-4632-bb97-9d1aceed474c"
      },
      "execution_count": 15,
      "outputs": [
        {
          "output_type": "stream",
          "name": "stdout",
          "text": [
            "1.) tensor([-5.9119,  4.4729,  6.5592]) \t 2 \t Virginica \t 2\n",
            "2.) tensor([-7.5894,  4.1582,  9.8069]) \t 2 \t Virginica \t 2\n",
            "3.) tensor([-8.5011,  5.1265, 10.2787]) \t 2 \t Virginica \t 2\n",
            "4.) tensor([-4.3686,  5.6678,  2.5653]) \t 1 \t Versicolor \t 1\n",
            "5.) tensor([-7.2266,  4.8809,  8.3632]) \t 2 \t Virginica \t 2\n",
            "6.) tensor([-3.4165,  5.3795,  1.2768]) \t 1 \t Versicolor \t 1\n",
            "7.) tensor([-5.9599,  4.9997,  6.0405]) \t 2 \t Virginica \t 2\n",
            "8.) tensor([-4.3174,  5.7426,  2.3931]) \t 1 \t Versicolor \t 1\n",
            "9.) tensor([-6.5762,  4.9372,  7.1788]) \t 2 \t Virginica \t 2\n",
            "10.) tensor([-8.1000,  4.4038, 10.4154]) \t 2 \t Virginica \t 2\n",
            "11.) tensor([-5.7122,  4.9689,  5.6599]) \t 2 \t Virginica \t 2\n",
            "12.) tensor([ 4.5903, -2.2652, -2.9050]) \t 0 \t Setosa \t 0\n",
            "13.) tensor([ 4.2790, -2.0123, -2.7456]) \t 0 \t Setosa \t 0\n",
            "14.) tensor([-2.1239,  4.0767,  0.5764]) \t 1 \t Versicolor \t 1\n",
            "15.) tensor([ 3.4679, -1.2128, -2.3579]) \t 0 \t Setosa \t 0\n",
            "16.) tensor([-5.5070,  5.1404,  5.1242]) \t 2 \t Virginica \t 1\n",
            "17.) tensor([ 4.0771, -1.8098, -2.6620]) \t 0 \t Setosa \t 0\n",
            "18.) tensor([-5.8438,  4.6181,  6.2907]) \t 1 \t Versicolor \t 2\n",
            "19.) tensor([ 4.9477, -2.5912, -3.0697]) \t 0 \t Setosa \t 0\n",
            "20.) tensor([ 3.4645, -1.2562, -2.3727]) \t 0 \t Setosa \t 0\n",
            "21.) tensor([-2.6342,  4.5901,  0.8537]) \t 1 \t Versicolor \t 1\n",
            "22.) tensor([-7.7886,  4.7362,  9.4962]) \t 2 \t Virginica \t 2\n",
            "23.) tensor([ 3.5849, -1.3253, -2.4199]) \t 0 \t Setosa \t 0\n",
            "24.) tensor([ 4.5600, -2.2554, -2.8818]) \t 0 \t Setosa \t 0\n",
            "25.) tensor([-2.6742,  4.6471,  0.8789]) \t 1 \t Versicolor \t 1\n",
            "26.) tensor([-3.3040,  5.2542,  1.2125]) \t 1 \t Versicolor \t 1\n",
            "27.) tensor([-4.6823,  5.8183,  2.9355]) \t 1 \t Versicolor \t 1\n",
            "28.) tensor([-2.9634,  4.9196,  1.0344]) \t 1 \t Versicolor \t 1\n",
            "29.) tensor([ 4.6087, -2.2863, -2.9113]) \t 0 \t Setosa \t 0\n",
            "30.) tensor([-4.6083,  5.4919,  3.1770]) \t 1 \t Versicolor \t 1\n",
            "\n",
            "28 correct out of a total of 30\n"
          ]
        }
      ]
    },
    {
      "cell_type": "markdown",
      "source": [
        "#### Evaluate NEW Data On The Network"
      ],
      "metadata": {
        "id": "PO7srwNdUGMN"
      }
    },
    {
      "cell_type": "code",
      "source": [
        "new_iris = torch.tensor([4.7,3.2,1.3,0.2])\n",
        "with torch.no_grad():\n",
        "  print(model(new_iris))\n",
        "new_iris2 = torch.tensor([5.9, 3.0,5.1,1.8])\n",
        "with torch.no_grad():\n",
        "  print(model(new_iris2))"
      ],
      "metadata": {
        "colab": {
          "base_uri": "https://localhost:8080/"
        },
        "id": "PXHUvSIYSOyj",
        "outputId": "9969a72d-52ea-4954-ba01-d7c77b7196d9"
      },
      "execution_count": 17,
      "outputs": [
        {
          "output_type": "stream",
          "name": "stdout",
          "text": [
            "tensor([ 4.5600, -2.2554, -2.8818])\n",
            "tensor([-6.0323,  4.5171,  6.7302])\n"
          ]
        }
      ]
    },
    {
      "cell_type": "markdown",
      "source": [
        "### Save and Load Neural Network Model"
      ],
      "metadata": {
        "id": "Q8UB_fmvz7Xh"
      }
    },
    {
      "cell_type": "code",
      "source": [
        "torch.save(model.state_dict(), 'my_iris_nn_model.pt')"
      ],
      "metadata": {
        "id": "MEylR6g1zRYH"
      },
      "execution_count": 18,
      "outputs": []
    },
    {
      "cell_type": "code",
      "source": [
        "# Load the Saved Model\n",
        "new_model = Model()\n",
        "new_model.load_state_dict(torch.load('my_iris_nn_model.pt'))"
      ],
      "metadata": {
        "colab": {
          "base_uri": "https://localhost:8080/"
        },
        "id": "qewqEYXC0Uoi",
        "outputId": "f2a525ba-73bb-4b6d-cb2a-e6b763d80ead"
      },
      "execution_count": 19,
      "outputs": [
        {
          "output_type": "stream",
          "name": "stderr",
          "text": [
            "<ipython-input-19-35360c61eae9>:3: FutureWarning: You are using `torch.load` with `weights_only=False` (the current default value), which uses the default pickle module implicitly. It is possible to construct malicious pickle data which will execute arbitrary code during unpickling (See https://github.com/pytorch/pytorch/blob/main/SECURITY.md#untrusted-models for more details). In a future release, the default value for `weights_only` will be flipped to `True`. This limits the functions that could be executed during unpickling. Arbitrary objects will no longer be allowed to be loaded via this mode unless they are explicitly allowlisted by the user via `torch.serialization.add_safe_globals`. We recommend you start setting `weights_only=True` for any use case where you don't have full control of the loaded file. Please open an issue on GitHub for any issues related to this experimental feature.\n",
            "  new_model.load_state_dict(torch.load('my_iris_nn_model.pt'))\n"
          ]
        },
        {
          "output_type": "execute_result",
          "data": {
            "text/plain": [
              "<All keys matched successfully>"
            ]
          },
          "metadata": {},
          "execution_count": 19
        }
      ]
    },
    {
      "cell_type": "code",
      "source": [
        "# Make Sure it loaded correctly\n",
        "new_model.eval()"
      ],
      "metadata": {
        "colab": {
          "base_uri": "https://localhost:8080/"
        },
        "id": "OoKafOyp0gbK",
        "outputId": "64ff5656-d4eb-4f88-f2dc-6253c46b3e6c"
      },
      "execution_count": 23,
      "outputs": [
        {
          "output_type": "execute_result",
          "data": {
            "text/plain": [
              "Model(\n",
              "  (fc1): Linear(in_features=4, out_features=8, bias=True)\n",
              "  (fc2): Linear(in_features=8, out_features=9, bias=True)\n",
              "  (out): Linear(in_features=9, out_features=3, bias=True)\n",
              ")"
            ]
          },
          "metadata": {},
          "execution_count": 23
        }
      ]
    },
    {
      "cell_type": "markdown",
      "source": [
        "# Convolutional Neural Network"
      ],
      "metadata": {
        "id": "UbWLYA5T07Xn"
      }
    },
    {
      "cell_type": "code",
      "source": [],
      "metadata": {
        "id": "3N9Ua9sx0mO7"
      },
      "execution_count": null,
      "outputs": []
    }
  ]
}